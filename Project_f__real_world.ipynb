{
  "nbformat": 4,
  "nbformat_minor": 0,
  "metadata": {
    "colab": {
      "provenance": [],
      "include_colab_link": true
    },
    "kernelspec": {
      "name": "python3",
      "display_name": "Python 3"
    },
    "language_info": {
      "name": "python"
    }
  },
  "cells": [
    {
      "cell_type": "markdown",
      "metadata": {
        "id": "view-in-github",
        "colab_type": "text"
      },
      "source": [
        "<a href=\"https://colab.research.google.com/github/tago893/Algoproject-TSP/blob/main/Project_f__real_world.ipynb\" target=\"_parent\"><img src=\"https://colab.research.google.com/assets/colab-badge.svg\" alt=\"Open In Colab\"/></a>"
      ]
    },
    {
      "cell_type": "markdown",
      "source": [
        "# Comparative Analysis of TSP Algorithms\n",
        "\n",
        "## Introduction\n",
        "This notebook presents a comparative analysis of three algorithms used to solve the Traveling Salesman Problem (TSP): Christofides, Nearest Neighbor, and Lin-Kernighan. We aim to assess their efficiency, accuracy, and applicability to different datasets.\n"
      ],
      "metadata": {
        "id": "cLeNzmiv8l0E"
      }
    },
    {
      "cell_type": "code",
      "execution_count": 480,
      "metadata": {
        "id": "EK5bcMTiabZr"
      },
      "outputs": [],
      "source": [
        "import pandas as pd # for data manipulation\n",
        "import numpy as np # for linear algebra\n",
        "import plotly.express as px # for\n",
        "import matplotlib.pyplot as plt # for plotting\n",
        "import time # for time"
      ]
    },
    {
      "cell_type": "code",
      "source": [
        "# Getting path of dataset\n",
        "dataset_path = \"/content/worldcities.csv\"\n",
        "# Loading specific columns from dataset\n",
        "df = pd.read_csv(dataset_path, usecols=[\"country\", \"city\", \"population\", \"lat\", \"lng\"])\n",
        "\n",
        "# Displaying our data\n",
        "df.head()"
      ],
      "metadata": {
        "id": "lwprKVgZapbT",
        "colab": {
          "base_uri": "https://localhost:8080/",
          "height": 206
        },
        "outputId": "c55b9804-00b7-4413-9c82-5eb2f592a5b8"
      },
      "execution_count": 481,
      "outputs": [
        {
          "output_type": "execute_result",
          "data": {
            "text/plain": [
              "        city      lat       lng    country  population\n",
              "0      Tokyo  35.6897  139.6922      Japan  37732000.0\n",
              "1    Jakarta  -6.1750  106.8275  Indonesia  33756000.0\n",
              "2      Delhi  28.6100   77.2300      India  32226000.0\n",
              "3  Guangzhou  23.1300  113.2600      China  26940000.0\n",
              "4     Mumbai  19.0761   72.8775      India  24973000.0"
            ],
            "text/html": [
              "\n",
              "  <div id=\"df-92d6ef67-b3bb-4b61-b1f7-e7ee57572ece\" class=\"colab-df-container\">\n",
              "    <div>\n",
              "<style scoped>\n",
              "    .dataframe tbody tr th:only-of-type {\n",
              "        vertical-align: middle;\n",
              "    }\n",
              "\n",
              "    .dataframe tbody tr th {\n",
              "        vertical-align: top;\n",
              "    }\n",
              "\n",
              "    .dataframe thead th {\n",
              "        text-align: right;\n",
              "    }\n",
              "</style>\n",
              "<table border=\"1\" class=\"dataframe\">\n",
              "  <thead>\n",
              "    <tr style=\"text-align: right;\">\n",
              "      <th></th>\n",
              "      <th>city</th>\n",
              "      <th>lat</th>\n",
              "      <th>lng</th>\n",
              "      <th>country</th>\n",
              "      <th>population</th>\n",
              "    </tr>\n",
              "  </thead>\n",
              "  <tbody>\n",
              "    <tr>\n",
              "      <th>0</th>\n",
              "      <td>Tokyo</td>\n",
              "      <td>35.6897</td>\n",
              "      <td>139.6922</td>\n",
              "      <td>Japan</td>\n",
              "      <td>37732000.0</td>\n",
              "    </tr>\n",
              "    <tr>\n",
              "      <th>1</th>\n",
              "      <td>Jakarta</td>\n",
              "      <td>-6.1750</td>\n",
              "      <td>106.8275</td>\n",
              "      <td>Indonesia</td>\n",
              "      <td>33756000.0</td>\n",
              "    </tr>\n",
              "    <tr>\n",
              "      <th>2</th>\n",
              "      <td>Delhi</td>\n",
              "      <td>28.6100</td>\n",
              "      <td>77.2300</td>\n",
              "      <td>India</td>\n",
              "      <td>32226000.0</td>\n",
              "    </tr>\n",
              "    <tr>\n",
              "      <th>3</th>\n",
              "      <td>Guangzhou</td>\n",
              "      <td>23.1300</td>\n",
              "      <td>113.2600</td>\n",
              "      <td>China</td>\n",
              "      <td>26940000.0</td>\n",
              "    </tr>\n",
              "    <tr>\n",
              "      <th>4</th>\n",
              "      <td>Mumbai</td>\n",
              "      <td>19.0761</td>\n",
              "      <td>72.8775</td>\n",
              "      <td>India</td>\n",
              "      <td>24973000.0</td>\n",
              "    </tr>\n",
              "  </tbody>\n",
              "</table>\n",
              "</div>\n",
              "    <div class=\"colab-df-buttons\">\n",
              "\n",
              "  <div class=\"colab-df-container\">\n",
              "    <button class=\"colab-df-convert\" onclick=\"convertToInteractive('df-92d6ef67-b3bb-4b61-b1f7-e7ee57572ece')\"\n",
              "            title=\"Convert this dataframe to an interactive table.\"\n",
              "            style=\"display:none;\">\n",
              "\n",
              "  <svg xmlns=\"http://www.w3.org/2000/svg\" height=\"24px\" viewBox=\"0 -960 960 960\">\n",
              "    <path d=\"M120-120v-720h720v720H120Zm60-500h600v-160H180v160Zm220 220h160v-160H400v160Zm0 220h160v-160H400v160ZM180-400h160v-160H180v160Zm440 0h160v-160H620v160ZM180-180h160v-160H180v160Zm440 0h160v-160H620v160Z\"/>\n",
              "  </svg>\n",
              "    </button>\n",
              "\n",
              "  <style>\n",
              "    .colab-df-container {\n",
              "      display:flex;\n",
              "      gap: 12px;\n",
              "    }\n",
              "\n",
              "    .colab-df-convert {\n",
              "      background-color: #E8F0FE;\n",
              "      border: none;\n",
              "      border-radius: 50%;\n",
              "      cursor: pointer;\n",
              "      display: none;\n",
              "      fill: #1967D2;\n",
              "      height: 32px;\n",
              "      padding: 0 0 0 0;\n",
              "      width: 32px;\n",
              "    }\n",
              "\n",
              "    .colab-df-convert:hover {\n",
              "      background-color: #E2EBFA;\n",
              "      box-shadow: 0px 1px 2px rgba(60, 64, 67, 0.3), 0px 1px 3px 1px rgba(60, 64, 67, 0.15);\n",
              "      fill: #174EA6;\n",
              "    }\n",
              "\n",
              "    .colab-df-buttons div {\n",
              "      margin-bottom: 4px;\n",
              "    }\n",
              "\n",
              "    [theme=dark] .colab-df-convert {\n",
              "      background-color: #3B4455;\n",
              "      fill: #D2E3FC;\n",
              "    }\n",
              "\n",
              "    [theme=dark] .colab-df-convert:hover {\n",
              "      background-color: #434B5C;\n",
              "      box-shadow: 0px 1px 3px 1px rgba(0, 0, 0, 0.15);\n",
              "      filter: drop-shadow(0px 1px 2px rgba(0, 0, 0, 0.3));\n",
              "      fill: #FFFFFF;\n",
              "    }\n",
              "  </style>\n",
              "\n",
              "    <script>\n",
              "      const buttonEl =\n",
              "        document.querySelector('#df-92d6ef67-b3bb-4b61-b1f7-e7ee57572ece button.colab-df-convert');\n",
              "      buttonEl.style.display =\n",
              "        google.colab.kernel.accessAllowed ? 'block' : 'none';\n",
              "\n",
              "      async function convertToInteractive(key) {\n",
              "        const element = document.querySelector('#df-92d6ef67-b3bb-4b61-b1f7-e7ee57572ece');\n",
              "        const dataTable =\n",
              "          await google.colab.kernel.invokeFunction('convertToInteractive',\n",
              "                                                    [key], {});\n",
              "        if (!dataTable) return;\n",
              "\n",
              "        const docLinkHtml = 'Like what you see? Visit the ' +\n",
              "          '<a target=\"_blank\" href=https://colab.research.google.com/notebooks/data_table.ipynb>data table notebook</a>'\n",
              "          + ' to learn more about interactive tables.';\n",
              "        element.innerHTML = '';\n",
              "        dataTable['output_type'] = 'display_data';\n",
              "        await google.colab.output.renderOutput(dataTable, element);\n",
              "        const docLink = document.createElement('div');\n",
              "        docLink.innerHTML = docLinkHtml;\n",
              "        element.appendChild(docLink);\n",
              "      }\n",
              "    </script>\n",
              "  </div>\n",
              "\n",
              "\n",
              "<div id=\"df-395ef630-75ae-4eed-876a-1c274697168d\">\n",
              "  <button class=\"colab-df-quickchart\" onclick=\"quickchart('df-395ef630-75ae-4eed-876a-1c274697168d')\"\n",
              "            title=\"Suggest charts\"\n",
              "            style=\"display:none;\">\n",
              "\n",
              "<svg xmlns=\"http://www.w3.org/2000/svg\" height=\"24px\"viewBox=\"0 0 24 24\"\n",
              "     width=\"24px\">\n",
              "    <g>\n",
              "        <path d=\"M19 3H5c-1.1 0-2 .9-2 2v14c0 1.1.9 2 2 2h14c1.1 0 2-.9 2-2V5c0-1.1-.9-2-2-2zM9 17H7v-7h2v7zm4 0h-2V7h2v10zm4 0h-2v-4h2v4z\"/>\n",
              "    </g>\n",
              "</svg>\n",
              "  </button>\n",
              "\n",
              "<style>\n",
              "  .colab-df-quickchart {\n",
              "      --bg-color: #E8F0FE;\n",
              "      --fill-color: #1967D2;\n",
              "      --hover-bg-color: #E2EBFA;\n",
              "      --hover-fill-color: #174EA6;\n",
              "      --disabled-fill-color: #AAA;\n",
              "      --disabled-bg-color: #DDD;\n",
              "  }\n",
              "\n",
              "  [theme=dark] .colab-df-quickchart {\n",
              "      --bg-color: #3B4455;\n",
              "      --fill-color: #D2E3FC;\n",
              "      --hover-bg-color: #434B5C;\n",
              "      --hover-fill-color: #FFFFFF;\n",
              "      --disabled-bg-color: #3B4455;\n",
              "      --disabled-fill-color: #666;\n",
              "  }\n",
              "\n",
              "  .colab-df-quickchart {\n",
              "    background-color: var(--bg-color);\n",
              "    border: none;\n",
              "    border-radius: 50%;\n",
              "    cursor: pointer;\n",
              "    display: none;\n",
              "    fill: var(--fill-color);\n",
              "    height: 32px;\n",
              "    padding: 0;\n",
              "    width: 32px;\n",
              "  }\n",
              "\n",
              "  .colab-df-quickchart:hover {\n",
              "    background-color: var(--hover-bg-color);\n",
              "    box-shadow: 0 1px 2px rgba(60, 64, 67, 0.3), 0 1px 3px 1px rgba(60, 64, 67, 0.15);\n",
              "    fill: var(--button-hover-fill-color);\n",
              "  }\n",
              "\n",
              "  .colab-df-quickchart-complete:disabled,\n",
              "  .colab-df-quickchart-complete:disabled:hover {\n",
              "    background-color: var(--disabled-bg-color);\n",
              "    fill: var(--disabled-fill-color);\n",
              "    box-shadow: none;\n",
              "  }\n",
              "\n",
              "  .colab-df-spinner {\n",
              "    border: 2px solid var(--fill-color);\n",
              "    border-color: transparent;\n",
              "    border-bottom-color: var(--fill-color);\n",
              "    animation:\n",
              "      spin 1s steps(1) infinite;\n",
              "  }\n",
              "\n",
              "  @keyframes spin {\n",
              "    0% {\n",
              "      border-color: transparent;\n",
              "      border-bottom-color: var(--fill-color);\n",
              "      border-left-color: var(--fill-color);\n",
              "    }\n",
              "    20% {\n",
              "      border-color: transparent;\n",
              "      border-left-color: var(--fill-color);\n",
              "      border-top-color: var(--fill-color);\n",
              "    }\n",
              "    30% {\n",
              "      border-color: transparent;\n",
              "      border-left-color: var(--fill-color);\n",
              "      border-top-color: var(--fill-color);\n",
              "      border-right-color: var(--fill-color);\n",
              "    }\n",
              "    40% {\n",
              "      border-color: transparent;\n",
              "      border-right-color: var(--fill-color);\n",
              "      border-top-color: var(--fill-color);\n",
              "    }\n",
              "    60% {\n",
              "      border-color: transparent;\n",
              "      border-right-color: var(--fill-color);\n",
              "    }\n",
              "    80% {\n",
              "      border-color: transparent;\n",
              "      border-right-color: var(--fill-color);\n",
              "      border-bottom-color: var(--fill-color);\n",
              "    }\n",
              "    90% {\n",
              "      border-color: transparent;\n",
              "      border-bottom-color: var(--fill-color);\n",
              "    }\n",
              "  }\n",
              "</style>\n",
              "\n",
              "  <script>\n",
              "    async function quickchart(key) {\n",
              "      const quickchartButtonEl =\n",
              "        document.querySelector('#' + key + ' button');\n",
              "      quickchartButtonEl.disabled = true;  // To prevent multiple clicks.\n",
              "      quickchartButtonEl.classList.add('colab-df-spinner');\n",
              "      try {\n",
              "        const charts = await google.colab.kernel.invokeFunction(\n",
              "            'suggestCharts', [key], {});\n",
              "      } catch (error) {\n",
              "        console.error('Error during call to suggestCharts:', error);\n",
              "      }\n",
              "      quickchartButtonEl.classList.remove('colab-df-spinner');\n",
              "      quickchartButtonEl.classList.add('colab-df-quickchart-complete');\n",
              "    }\n",
              "    (() => {\n",
              "      let quickchartButtonEl =\n",
              "        document.querySelector('#df-395ef630-75ae-4eed-876a-1c274697168d button');\n",
              "      quickchartButtonEl.style.display =\n",
              "        google.colab.kernel.accessAllowed ? 'block' : 'none';\n",
              "    })();\n",
              "  </script>\n",
              "</div>\n",
              "    </div>\n",
              "  </div>\n"
            ],
            "application/vnd.google.colaboratory.intrinsic+json": {
              "type": "dataframe",
              "variable_name": "df",
              "summary": "{\n  \"name\": \"df\",\n  \"rows\": 44691,\n  \"fields\": [\n    {\n      \"column\": \"city\",\n      \"properties\": {\n        \"dtype\": \"string\",\n        \"num_unique_values\": 41343,\n        \"samples\": [\n          \"Arniquet\",\n          \"Zarasai\",\n          \"Central Saanich\"\n        ],\n        \"semantic_type\": \"\",\n        \"description\": \"\"\n      }\n    },\n    {\n      \"column\": \"lat\",\n      \"properties\": {\n        \"dtype\": \"number\",\n        \"std\": 23.22525798085182,\n        \"min\": -54.9333,\n        \"max\": 81.7166,\n        \"num_unique_values\": 34657,\n        \"samples\": [\n          48.9944,\n          18.9833,\n          28.143\n        ],\n        \"semantic_type\": \"\",\n        \"description\": \"\"\n      }\n    },\n    {\n      \"column\": \"lng\",\n      \"properties\": {\n        \"dtype\": \"number\",\n        \"std\": 71.1530795443813,\n        \"min\": -179.6,\n        \"max\": 179.3703,\n        \"num_unique_values\": 37116,\n        \"samples\": [\n          -81.848,\n          -118.0407,\n          66.8333\n        ],\n        \"semantic_type\": \"\",\n        \"description\": \"\"\n      }\n    },\n    {\n      \"column\": \"country\",\n      \"properties\": {\n        \"dtype\": \"category\",\n        \"num_unique_values\": 241,\n        \"samples\": [\n          \"Angola\",\n          \"South Korea\",\n          \"Guam\"\n        ],\n        \"semantic_type\": \"\",\n        \"description\": \"\"\n      }\n    },\n    {\n      \"column\": \"population\",\n      \"properties\": {\n        \"dtype\": \"number\",\n        \"std\": 714854.2219095235,\n        \"min\": 0.0,\n        \"max\": 37732000.0,\n        \"num_unique_values\": 29658,\n        \"samples\": [\n          13111.0,\n          15565.0,\n          11138.0\n        ],\n        \"semantic_type\": \"\",\n        \"description\": \"\"\n      }\n    }\n  ]\n}"
            }
          },
          "metadata": {},
          "execution_count": 481
        }
      ]
    },
    {
      "cell_type": "markdown",
      "source": [
        "Please change the country name to which ever country you like to make the algorithms find optimal path for"
      ],
      "metadata": {
        "id": "y7-kDgssPBhh"
      }
    },
    {
      "cell_type": "code",
      "source": [
        "# Filtering only US cities\n",
        "data = df.loc[df['country'] == 'Australia', [\"country\", \"city\", \"population\", \"lat\", \"lng\"]]\n",
        "# Printing us data\n",
        "data.head()"
      ],
      "metadata": {
        "id": "jSbs5jIdapdq",
        "colab": {
          "base_uri": "https://localhost:8080/",
          "height": 206
        },
        "outputId": "2b6f889e-6d30-4819-89ed-10c3c32bd81c"
      },
      "execution_count": 482,
      "outputs": [
        {
          "output_type": "execute_result",
          "data": {
            "text/plain": [
              "       country       city  population      lat       lng\n",
              "147  Australia     Sydney   4840600.0 -33.8678  151.2100\n",
              "158  Australia  Melbourne   4529500.0 -37.8142  144.9631\n",
              "358  Australia   Brisbane   2360241.0 -27.4678  153.0281\n",
              "388  Australia      Perth   2141834.0 -31.9559  115.8606\n",
              "589  Australia   Adelaide   1295714.0 -34.9275  138.6000"
            ],
            "text/html": [
              "\n",
              "  <div id=\"df-963e4ead-d9be-4e63-a80a-da5c4a822c04\" class=\"colab-df-container\">\n",
              "    <div>\n",
              "<style scoped>\n",
              "    .dataframe tbody tr th:only-of-type {\n",
              "        vertical-align: middle;\n",
              "    }\n",
              "\n",
              "    .dataframe tbody tr th {\n",
              "        vertical-align: top;\n",
              "    }\n",
              "\n",
              "    .dataframe thead th {\n",
              "        text-align: right;\n",
              "    }\n",
              "</style>\n",
              "<table border=\"1\" class=\"dataframe\">\n",
              "  <thead>\n",
              "    <tr style=\"text-align: right;\">\n",
              "      <th></th>\n",
              "      <th>country</th>\n",
              "      <th>city</th>\n",
              "      <th>population</th>\n",
              "      <th>lat</th>\n",
              "      <th>lng</th>\n",
              "    </tr>\n",
              "  </thead>\n",
              "  <tbody>\n",
              "    <tr>\n",
              "      <th>147</th>\n",
              "      <td>Australia</td>\n",
              "      <td>Sydney</td>\n",
              "      <td>4840600.0</td>\n",
              "      <td>-33.8678</td>\n",
              "      <td>151.2100</td>\n",
              "    </tr>\n",
              "    <tr>\n",
              "      <th>158</th>\n",
              "      <td>Australia</td>\n",
              "      <td>Melbourne</td>\n",
              "      <td>4529500.0</td>\n",
              "      <td>-37.8142</td>\n",
              "      <td>144.9631</td>\n",
              "    </tr>\n",
              "    <tr>\n",
              "      <th>358</th>\n",
              "      <td>Australia</td>\n",
              "      <td>Brisbane</td>\n",
              "      <td>2360241.0</td>\n",
              "      <td>-27.4678</td>\n",
              "      <td>153.0281</td>\n",
              "    </tr>\n",
              "    <tr>\n",
              "      <th>388</th>\n",
              "      <td>Australia</td>\n",
              "      <td>Perth</td>\n",
              "      <td>2141834.0</td>\n",
              "      <td>-31.9559</td>\n",
              "      <td>115.8606</td>\n",
              "    </tr>\n",
              "    <tr>\n",
              "      <th>589</th>\n",
              "      <td>Australia</td>\n",
              "      <td>Adelaide</td>\n",
              "      <td>1295714.0</td>\n",
              "      <td>-34.9275</td>\n",
              "      <td>138.6000</td>\n",
              "    </tr>\n",
              "  </tbody>\n",
              "</table>\n",
              "</div>\n",
              "    <div class=\"colab-df-buttons\">\n",
              "\n",
              "  <div class=\"colab-df-container\">\n",
              "    <button class=\"colab-df-convert\" onclick=\"convertToInteractive('df-963e4ead-d9be-4e63-a80a-da5c4a822c04')\"\n",
              "            title=\"Convert this dataframe to an interactive table.\"\n",
              "            style=\"display:none;\">\n",
              "\n",
              "  <svg xmlns=\"http://www.w3.org/2000/svg\" height=\"24px\" viewBox=\"0 -960 960 960\">\n",
              "    <path d=\"M120-120v-720h720v720H120Zm60-500h600v-160H180v160Zm220 220h160v-160H400v160Zm0 220h160v-160H400v160ZM180-400h160v-160H180v160Zm440 0h160v-160H620v160ZM180-180h160v-160H180v160Zm440 0h160v-160H620v160Z\"/>\n",
              "  </svg>\n",
              "    </button>\n",
              "\n",
              "  <style>\n",
              "    .colab-df-container {\n",
              "      display:flex;\n",
              "      gap: 12px;\n",
              "    }\n",
              "\n",
              "    .colab-df-convert {\n",
              "      background-color: #E8F0FE;\n",
              "      border: none;\n",
              "      border-radius: 50%;\n",
              "      cursor: pointer;\n",
              "      display: none;\n",
              "      fill: #1967D2;\n",
              "      height: 32px;\n",
              "      padding: 0 0 0 0;\n",
              "      width: 32px;\n",
              "    }\n",
              "\n",
              "    .colab-df-convert:hover {\n",
              "      background-color: #E2EBFA;\n",
              "      box-shadow: 0px 1px 2px rgba(60, 64, 67, 0.3), 0px 1px 3px 1px rgba(60, 64, 67, 0.15);\n",
              "      fill: #174EA6;\n",
              "    }\n",
              "\n",
              "    .colab-df-buttons div {\n",
              "      margin-bottom: 4px;\n",
              "    }\n",
              "\n",
              "    [theme=dark] .colab-df-convert {\n",
              "      background-color: #3B4455;\n",
              "      fill: #D2E3FC;\n",
              "    }\n",
              "\n",
              "    [theme=dark] .colab-df-convert:hover {\n",
              "      background-color: #434B5C;\n",
              "      box-shadow: 0px 1px 3px 1px rgba(0, 0, 0, 0.15);\n",
              "      filter: drop-shadow(0px 1px 2px rgba(0, 0, 0, 0.3));\n",
              "      fill: #FFFFFF;\n",
              "    }\n",
              "  </style>\n",
              "\n",
              "    <script>\n",
              "      const buttonEl =\n",
              "        document.querySelector('#df-963e4ead-d9be-4e63-a80a-da5c4a822c04 button.colab-df-convert');\n",
              "      buttonEl.style.display =\n",
              "        google.colab.kernel.accessAllowed ? 'block' : 'none';\n",
              "\n",
              "      async function convertToInteractive(key) {\n",
              "        const element = document.querySelector('#df-963e4ead-d9be-4e63-a80a-da5c4a822c04');\n",
              "        const dataTable =\n",
              "          await google.colab.kernel.invokeFunction('convertToInteractive',\n",
              "                                                    [key], {});\n",
              "        if (!dataTable) return;\n",
              "\n",
              "        const docLinkHtml = 'Like what you see? Visit the ' +\n",
              "          '<a target=\"_blank\" href=https://colab.research.google.com/notebooks/data_table.ipynb>data table notebook</a>'\n",
              "          + ' to learn more about interactive tables.';\n",
              "        element.innerHTML = '';\n",
              "        dataTable['output_type'] = 'display_data';\n",
              "        await google.colab.output.renderOutput(dataTable, element);\n",
              "        const docLink = document.createElement('div');\n",
              "        docLink.innerHTML = docLinkHtml;\n",
              "        element.appendChild(docLink);\n",
              "      }\n",
              "    </script>\n",
              "  </div>\n",
              "\n",
              "\n",
              "<div id=\"df-a0863677-2009-460e-929d-ea885da43b16\">\n",
              "  <button class=\"colab-df-quickchart\" onclick=\"quickchart('df-a0863677-2009-460e-929d-ea885da43b16')\"\n",
              "            title=\"Suggest charts\"\n",
              "            style=\"display:none;\">\n",
              "\n",
              "<svg xmlns=\"http://www.w3.org/2000/svg\" height=\"24px\"viewBox=\"0 0 24 24\"\n",
              "     width=\"24px\">\n",
              "    <g>\n",
              "        <path d=\"M19 3H5c-1.1 0-2 .9-2 2v14c0 1.1.9 2 2 2h14c1.1 0 2-.9 2-2V5c0-1.1-.9-2-2-2zM9 17H7v-7h2v7zm4 0h-2V7h2v10zm4 0h-2v-4h2v4z\"/>\n",
              "    </g>\n",
              "</svg>\n",
              "  </button>\n",
              "\n",
              "<style>\n",
              "  .colab-df-quickchart {\n",
              "      --bg-color: #E8F0FE;\n",
              "      --fill-color: #1967D2;\n",
              "      --hover-bg-color: #E2EBFA;\n",
              "      --hover-fill-color: #174EA6;\n",
              "      --disabled-fill-color: #AAA;\n",
              "      --disabled-bg-color: #DDD;\n",
              "  }\n",
              "\n",
              "  [theme=dark] .colab-df-quickchart {\n",
              "      --bg-color: #3B4455;\n",
              "      --fill-color: #D2E3FC;\n",
              "      --hover-bg-color: #434B5C;\n",
              "      --hover-fill-color: #FFFFFF;\n",
              "      --disabled-bg-color: #3B4455;\n",
              "      --disabled-fill-color: #666;\n",
              "  }\n",
              "\n",
              "  .colab-df-quickchart {\n",
              "    background-color: var(--bg-color);\n",
              "    border: none;\n",
              "    border-radius: 50%;\n",
              "    cursor: pointer;\n",
              "    display: none;\n",
              "    fill: var(--fill-color);\n",
              "    height: 32px;\n",
              "    padding: 0;\n",
              "    width: 32px;\n",
              "  }\n",
              "\n",
              "  .colab-df-quickchart:hover {\n",
              "    background-color: var(--hover-bg-color);\n",
              "    box-shadow: 0 1px 2px rgba(60, 64, 67, 0.3), 0 1px 3px 1px rgba(60, 64, 67, 0.15);\n",
              "    fill: var(--button-hover-fill-color);\n",
              "  }\n",
              "\n",
              "  .colab-df-quickchart-complete:disabled,\n",
              "  .colab-df-quickchart-complete:disabled:hover {\n",
              "    background-color: var(--disabled-bg-color);\n",
              "    fill: var(--disabled-fill-color);\n",
              "    box-shadow: none;\n",
              "  }\n",
              "\n",
              "  .colab-df-spinner {\n",
              "    border: 2px solid var(--fill-color);\n",
              "    border-color: transparent;\n",
              "    border-bottom-color: var(--fill-color);\n",
              "    animation:\n",
              "      spin 1s steps(1) infinite;\n",
              "  }\n",
              "\n",
              "  @keyframes spin {\n",
              "    0% {\n",
              "      border-color: transparent;\n",
              "      border-bottom-color: var(--fill-color);\n",
              "      border-left-color: var(--fill-color);\n",
              "    }\n",
              "    20% {\n",
              "      border-color: transparent;\n",
              "      border-left-color: var(--fill-color);\n",
              "      border-top-color: var(--fill-color);\n",
              "    }\n",
              "    30% {\n",
              "      border-color: transparent;\n",
              "      border-left-color: var(--fill-color);\n",
              "      border-top-color: var(--fill-color);\n",
              "      border-right-color: var(--fill-color);\n",
              "    }\n",
              "    40% {\n",
              "      border-color: transparent;\n",
              "      border-right-color: var(--fill-color);\n",
              "      border-top-color: var(--fill-color);\n",
              "    }\n",
              "    60% {\n",
              "      border-color: transparent;\n",
              "      border-right-color: var(--fill-color);\n",
              "    }\n",
              "    80% {\n",
              "      border-color: transparent;\n",
              "      border-right-color: var(--fill-color);\n",
              "      border-bottom-color: var(--fill-color);\n",
              "    }\n",
              "    90% {\n",
              "      border-color: transparent;\n",
              "      border-bottom-color: var(--fill-color);\n",
              "    }\n",
              "  }\n",
              "</style>\n",
              "\n",
              "  <script>\n",
              "    async function quickchart(key) {\n",
              "      const quickchartButtonEl =\n",
              "        document.querySelector('#' + key + ' button');\n",
              "      quickchartButtonEl.disabled = true;  // To prevent multiple clicks.\n",
              "      quickchartButtonEl.classList.add('colab-df-spinner');\n",
              "      try {\n",
              "        const charts = await google.colab.kernel.invokeFunction(\n",
              "            'suggestCharts', [key], {});\n",
              "      } catch (error) {\n",
              "        console.error('Error during call to suggestCharts:', error);\n",
              "      }\n",
              "      quickchartButtonEl.classList.remove('colab-df-spinner');\n",
              "      quickchartButtonEl.classList.add('colab-df-quickchart-complete');\n",
              "    }\n",
              "    (() => {\n",
              "      let quickchartButtonEl =\n",
              "        document.querySelector('#df-a0863677-2009-460e-929d-ea885da43b16 button');\n",
              "      quickchartButtonEl.style.display =\n",
              "        google.colab.kernel.accessAllowed ? 'block' : 'none';\n",
              "    })();\n",
              "  </script>\n",
              "</div>\n",
              "    </div>\n",
              "  </div>\n"
            ],
            "application/vnd.google.colaboratory.intrinsic+json": {
              "type": "dataframe",
              "variable_name": "data",
              "summary": "{\n  \"name\": \"data\",\n  \"rows\": 269,\n  \"fields\": [\n    {\n      \"column\": \"country\",\n      \"properties\": {\n        \"dtype\": \"category\",\n        \"num_unique_values\": 1,\n        \"samples\": [\n          \"Australia\"\n        ],\n        \"semantic_type\": \"\",\n        \"description\": \"\"\n      }\n    },\n    {\n      \"column\": \"city\",\n      \"properties\": {\n        \"dtype\": \"string\",\n        \"num_unique_values\": 266,\n        \"samples\": [\n          \"Narrogin\"\n        ],\n        \"semantic_type\": \"\",\n        \"description\": \"\"\n      }\n    },\n    {\n      \"column\": \"population\",\n      \"properties\": {\n        \"dtype\": \"number\",\n        \"std\": 454357.5035006147,\n        \"min\": 13.0,\n        \"max\": 4840600.0,\n        \"num_unique_values\": 268,\n        \"samples\": [\n          9193.0\n        ],\n        \"semantic_type\": \"\",\n        \"description\": \"\"\n      }\n    },\n    {\n      \"column\": \"lat\",\n      \"properties\": {\n        \"dtype\": \"number\",\n        \"std\": 6.760856764883196,\n        \"min\": -42.9769,\n        \"max\": -12.4381,\n        \"num_unique_values\": 261,\n        \"samples\": [\n          -35.1189\n        ],\n        \"semantic_type\": \"\",\n        \"description\": \"\"\n      }\n    },\n    {\n      \"column\": \"lng\",\n      \"properties\": {\n        \"dtype\": \"number\",\n        \"std\": 11.551557343110984,\n        \"min\": 113.6611,\n        \"max\": 153.6178,\n        \"num_unique_values\": 264,\n        \"samples\": [\n          144.4167\n        ],\n        \"semantic_type\": \"\",\n        \"description\": \"\"\n      }\n    }\n  ]\n}"
            }
          },
          "metadata": {},
          "execution_count": 482
        }
      ]
    },
    {
      "cell_type": "code",
      "source": [
        "# Filtering cities that have higher population than median\n",
        "high_pop_data = data[data['population'] > data['population'].median()]\n",
        "\n",
        "# Remaining data for medium and low population clusters\n",
        "remaining_data = data[data['population'] <= data['population'].median()]\n",
        "\n",
        "# Splitting high population data into high and medium population clusters\n",
        "high_pop_cluster = high_pop_data.iloc[:int(len(high_pop_data) * 0.3)].reset_index(drop=True)\n",
        "medium_pop_cluster = high_pop_data.iloc[int(len(high_pop_data) * 0.3):].reset_index(drop=True)\n",
        "\n",
        "# Concatenating remaining data with medium population data for the medium population cluster\n",
        "medium_pop_cluster = pd.concat([medium_pop_cluster, remaining_data.iloc[:int(len(remaining_data) * 0.2)]], ignore_index=True)\n",
        "\n",
        "# The remaining data goes to the low population cluster\n",
        "low_pop_cluster = remaining_data.iloc[int(len(remaining_data) * 0.2):].reset_index(drop=True)"
      ],
      "metadata": {
        "id": "ksm3ExXYlqiV"
      },
      "execution_count": 483,
      "outputs": []
    },
    {
      "cell_type": "code",
      "source": [
        "info_to_work_on=input(\"please enter which type of populated cities you want to the algorithms analyze on(high,medium,low): \")"
      ],
      "metadata": {
        "colab": {
          "base_uri": "https://localhost:8080/"
        },
        "id": "0UDHhMB9NX2S",
        "outputId": "3f1a0401-76d5-49d4-fc15-98de73f1c2c5"
      },
      "execution_count": 484,
      "outputs": [
        {
          "name": "stdout",
          "output_type": "stream",
          "text": [
            "please enter which type of populated cities you want to the algorithms analyze on(high,medium,low): high\n"
          ]
        }
      ]
    },
    {
      "cell_type": "code",
      "source": [
        "if info_to_work_on == \"high\":\n",
        "  data = high_pop_cluster\n",
        "elif info_to_work_on == \"medium\":\n",
        "  data = medium_pop_cluster\n",
        "elif info_to_work_on == \"low\":\n",
        "  data = low_pop_cluster"
      ],
      "metadata": {
        "id": "bftgfUbymJvo"
      },
      "execution_count": 485,
      "outputs": []
    },
    {
      "cell_type": "code",
      "source": [
        "# Creating a scatter plot using Plotly\n",
        "fig1 = px.scatter_mapbox(data, lat=\"lat\", lon=\"lng\", hover_name=\"city\", zoom=3, height=600, size_max=8)\n",
        "\n",
        "# Customizing the map style\n",
        "fig1.update_layout(mapbox_style=\"carto-positron\")\n",
        "\n",
        "# Showing the interactive plot\n",
        "fig1.show()"
      ],
      "metadata": {
        "id": "1p_2D6U5appM",
        "colab": {
          "base_uri": "https://localhost:8080/",
          "height": 617
        },
        "outputId": "0a28c3f6-8e9e-4499-e020-57c3f4487e72"
      },
      "execution_count": 486,
      "outputs": [
        {
          "output_type": "display_data",
          "data": {
            "text/html": [
              "<html>\n",
              "<head><meta charset=\"utf-8\" /></head>\n",
              "<body>\n",
              "    <div>            <script src=\"https://cdnjs.cloudflare.com/ajax/libs/mathjax/2.7.5/MathJax.js?config=TeX-AMS-MML_SVG\"></script><script type=\"text/javascript\">if (window.MathJax && window.MathJax.Hub && window.MathJax.Hub.Config) {window.MathJax.Hub.Config({SVG: {font: \"STIX-Web\"}});}</script>                <script type=\"text/javascript\">window.PlotlyConfig = {MathJaxConfig: 'local'};</script>\n",
              "        <script charset=\"utf-8\" src=\"https://cdn.plot.ly/plotly-2.24.1.min.js\"></script>                <div id=\"0dea99f7-9dd4-4914-9afd-28e48012e742\" class=\"plotly-graph-div\" style=\"height:600px; width:100%;\"></div>            <script type=\"text/javascript\">                                    window.PLOTLYENV=window.PLOTLYENV || {};                                    if (document.getElementById(\"0dea99f7-9dd4-4914-9afd-28e48012e742\")) {                    Plotly.newPlot(                        \"0dea99f7-9dd4-4914-9afd-28e48012e742\",                        [{\"hovertemplate\":\"\\u003cb\\u003e%{hovertext}\\u003c\\u002fb\\u003e\\u003cbr\\u003e\\u003cbr\\u003elat=%{lat}\\u003cbr\\u003elng=%{lon}\\u003cextra\\u003e\\u003c\\u002fextra\\u003e\",\"hovertext\":[\"Sydney\",\"Melbourne\",\"Brisbane\",\"Perth\",\"Adelaide\",\"Canberra\",\"Gold Coast\",\"Cranbourne\",\"Central Coast\",\"Wollongong\",\"Hobart\",\"Geelong\",\"Townsville\",\"Ipswich\",\"Newcastle\",\"Cairns\",\"Darwin\",\"Toowoomba\",\"Launceston\",\"Caloundra\",\"Dandenong\",\"Campbelltown\",\"Leopold\",\"Corinda\",\"Ballarat\",\"Bendigo\",\"Mackay\",\"Melton\",\"Bunbury\",\"Bundaberg\",\"Wagga Wagga\",\"Hervey Bay\",\"Pakenham\",\"Port Macquarie\",\"Dubbo\",\"Orange\",\"Sunbury\",\"Geraldton\",\"Frankston\",\"Gladstone\"],\"lat\":[-33.8678,-37.8142,-27.4678,-31.9559,-34.9275,-35.2931,-28.0167,-38.0996,-33.3,-34.4331,-42.8806,-38.15,-19.25,-27.6167,-32.9167,-16.92,-12.4381,-27.5667,-41.4419,-26.7986,-37.981,-34.0733,-38.1892,-27.4833,-37.5608,-36.75,-21.1411,-37.6833,-33.3272,-24.8661,-35.1189,-25.29,-38.0712,-31.4333,-32.2569,-33.2833,-37.5811,-28.7744,-38.158,-23.8427],\"legendgroup\":\"\",\"lon\":[151.21,144.9631,153.0281,115.8606,138.6,149.1269,153.4,145.2834,151.2,150.8831,147.325,144.35,146.8167,152.7667,151.75,145.78,130.8411,151.95,147.145,153.1289,145.215,150.8261,144.4644,153.1,143.8475,144.2667,149.1858,144.5833,115.6369,152.3494,147.3689,152.84,145.4878,152.9,148.6011,149.1,144.7139,114.6089,145.135,151.2555],\"marker\":{\"color\":\"#636efa\"},\"mode\":\"markers\",\"name\":\"\",\"showlegend\":false,\"subplot\":\"mapbox\",\"type\":\"scattermapbox\"}],                        {\"template\":{\"data\":{\"histogram2dcontour\":[{\"type\":\"histogram2dcontour\",\"colorbar\":{\"outlinewidth\":0,\"ticks\":\"\"},\"colorscale\":[[0.0,\"#0d0887\"],[0.1111111111111111,\"#46039f\"],[0.2222222222222222,\"#7201a8\"],[0.3333333333333333,\"#9c179e\"],[0.4444444444444444,\"#bd3786\"],[0.5555555555555556,\"#d8576b\"],[0.6666666666666666,\"#ed7953\"],[0.7777777777777778,\"#fb9f3a\"],[0.8888888888888888,\"#fdca26\"],[1.0,\"#f0f921\"]]}],\"choropleth\":[{\"type\":\"choropleth\",\"colorbar\":{\"outlinewidth\":0,\"ticks\":\"\"}}],\"histogram2d\":[{\"type\":\"histogram2d\",\"colorbar\":{\"outlinewidth\":0,\"ticks\":\"\"},\"colorscale\":[[0.0,\"#0d0887\"],[0.1111111111111111,\"#46039f\"],[0.2222222222222222,\"#7201a8\"],[0.3333333333333333,\"#9c179e\"],[0.4444444444444444,\"#bd3786\"],[0.5555555555555556,\"#d8576b\"],[0.6666666666666666,\"#ed7953\"],[0.7777777777777778,\"#fb9f3a\"],[0.8888888888888888,\"#fdca26\"],[1.0,\"#f0f921\"]]}],\"heatmap\":[{\"type\":\"heatmap\",\"colorbar\":{\"outlinewidth\":0,\"ticks\":\"\"},\"colorscale\":[[0.0,\"#0d0887\"],[0.1111111111111111,\"#46039f\"],[0.2222222222222222,\"#7201a8\"],[0.3333333333333333,\"#9c179e\"],[0.4444444444444444,\"#bd3786\"],[0.5555555555555556,\"#d8576b\"],[0.6666666666666666,\"#ed7953\"],[0.7777777777777778,\"#fb9f3a\"],[0.8888888888888888,\"#fdca26\"],[1.0,\"#f0f921\"]]}],\"heatmapgl\":[{\"type\":\"heatmapgl\",\"colorbar\":{\"outlinewidth\":0,\"ticks\":\"\"},\"colorscale\":[[0.0,\"#0d0887\"],[0.1111111111111111,\"#46039f\"],[0.2222222222222222,\"#7201a8\"],[0.3333333333333333,\"#9c179e\"],[0.4444444444444444,\"#bd3786\"],[0.5555555555555556,\"#d8576b\"],[0.6666666666666666,\"#ed7953\"],[0.7777777777777778,\"#fb9f3a\"],[0.8888888888888888,\"#fdca26\"],[1.0,\"#f0f921\"]]}],\"contourcarpet\":[{\"type\":\"contourcarpet\",\"colorbar\":{\"outlinewidth\":0,\"ticks\":\"\"}}],\"contour\":[{\"type\":\"contour\",\"colorbar\":{\"outlinewidth\":0,\"ticks\":\"\"},\"colorscale\":[[0.0,\"#0d0887\"],[0.1111111111111111,\"#46039f\"],[0.2222222222222222,\"#7201a8\"],[0.3333333333333333,\"#9c179e\"],[0.4444444444444444,\"#bd3786\"],[0.5555555555555556,\"#d8576b\"],[0.6666666666666666,\"#ed7953\"],[0.7777777777777778,\"#fb9f3a\"],[0.8888888888888888,\"#fdca26\"],[1.0,\"#f0f921\"]]}],\"surface\":[{\"type\":\"surface\",\"colorbar\":{\"outlinewidth\":0,\"ticks\":\"\"},\"colorscale\":[[0.0,\"#0d0887\"],[0.1111111111111111,\"#46039f\"],[0.2222222222222222,\"#7201a8\"],[0.3333333333333333,\"#9c179e\"],[0.4444444444444444,\"#bd3786\"],[0.5555555555555556,\"#d8576b\"],[0.6666666666666666,\"#ed7953\"],[0.7777777777777778,\"#fb9f3a\"],[0.8888888888888888,\"#fdca26\"],[1.0,\"#f0f921\"]]}],\"mesh3d\":[{\"type\":\"mesh3d\",\"colorbar\":{\"outlinewidth\":0,\"ticks\":\"\"}}],\"scatter\":[{\"fillpattern\":{\"fillmode\":\"overlay\",\"size\":10,\"solidity\":0.2},\"type\":\"scatter\"}],\"parcoords\":[{\"type\":\"parcoords\",\"line\":{\"colorbar\":{\"outlinewidth\":0,\"ticks\":\"\"}}}],\"scatterpolargl\":[{\"type\":\"scatterpolargl\",\"marker\":{\"colorbar\":{\"outlinewidth\":0,\"ticks\":\"\"}}}],\"bar\":[{\"error_x\":{\"color\":\"#2a3f5f\"},\"error_y\":{\"color\":\"#2a3f5f\"},\"marker\":{\"line\":{\"color\":\"#E5ECF6\",\"width\":0.5},\"pattern\":{\"fillmode\":\"overlay\",\"size\":10,\"solidity\":0.2}},\"type\":\"bar\"}],\"scattergeo\":[{\"type\":\"scattergeo\",\"marker\":{\"colorbar\":{\"outlinewidth\":0,\"ticks\":\"\"}}}],\"scatterpolar\":[{\"type\":\"scatterpolar\",\"marker\":{\"colorbar\":{\"outlinewidth\":0,\"ticks\":\"\"}}}],\"histogram\":[{\"marker\":{\"pattern\":{\"fillmode\":\"overlay\",\"size\":10,\"solidity\":0.2}},\"type\":\"histogram\"}],\"scattergl\":[{\"type\":\"scattergl\",\"marker\":{\"colorbar\":{\"outlinewidth\":0,\"ticks\":\"\"}}}],\"scatter3d\":[{\"type\":\"scatter3d\",\"line\":{\"colorbar\":{\"outlinewidth\":0,\"ticks\":\"\"}},\"marker\":{\"colorbar\":{\"outlinewidth\":0,\"ticks\":\"\"}}}],\"scattermapbox\":[{\"type\":\"scattermapbox\",\"marker\":{\"colorbar\":{\"outlinewidth\":0,\"ticks\":\"\"}}}],\"scatterternary\":[{\"type\":\"scatterternary\",\"marker\":{\"colorbar\":{\"outlinewidth\":0,\"ticks\":\"\"}}}],\"scattercarpet\":[{\"type\":\"scattercarpet\",\"marker\":{\"colorbar\":{\"outlinewidth\":0,\"ticks\":\"\"}}}],\"carpet\":[{\"aaxis\":{\"endlinecolor\":\"#2a3f5f\",\"gridcolor\":\"white\",\"linecolor\":\"white\",\"minorgridcolor\":\"white\",\"startlinecolor\":\"#2a3f5f\"},\"baxis\":{\"endlinecolor\":\"#2a3f5f\",\"gridcolor\":\"white\",\"linecolor\":\"white\",\"minorgridcolor\":\"white\",\"startlinecolor\":\"#2a3f5f\"},\"type\":\"carpet\"}],\"table\":[{\"cells\":{\"fill\":{\"color\":\"#EBF0F8\"},\"line\":{\"color\":\"white\"}},\"header\":{\"fill\":{\"color\":\"#C8D4E3\"},\"line\":{\"color\":\"white\"}},\"type\":\"table\"}],\"barpolar\":[{\"marker\":{\"line\":{\"color\":\"#E5ECF6\",\"width\":0.5},\"pattern\":{\"fillmode\":\"overlay\",\"size\":10,\"solidity\":0.2}},\"type\":\"barpolar\"}],\"pie\":[{\"automargin\":true,\"type\":\"pie\"}]},\"layout\":{\"autotypenumbers\":\"strict\",\"colorway\":[\"#636efa\",\"#EF553B\",\"#00cc96\",\"#ab63fa\",\"#FFA15A\",\"#19d3f3\",\"#FF6692\",\"#B6E880\",\"#FF97FF\",\"#FECB52\"],\"font\":{\"color\":\"#2a3f5f\"},\"hovermode\":\"closest\",\"hoverlabel\":{\"align\":\"left\"},\"paper_bgcolor\":\"white\",\"plot_bgcolor\":\"#E5ECF6\",\"polar\":{\"bgcolor\":\"#E5ECF6\",\"angularaxis\":{\"gridcolor\":\"white\",\"linecolor\":\"white\",\"ticks\":\"\"},\"radialaxis\":{\"gridcolor\":\"white\",\"linecolor\":\"white\",\"ticks\":\"\"}},\"ternary\":{\"bgcolor\":\"#E5ECF6\",\"aaxis\":{\"gridcolor\":\"white\",\"linecolor\":\"white\",\"ticks\":\"\"},\"baxis\":{\"gridcolor\":\"white\",\"linecolor\":\"white\",\"ticks\":\"\"},\"caxis\":{\"gridcolor\":\"white\",\"linecolor\":\"white\",\"ticks\":\"\"}},\"coloraxis\":{\"colorbar\":{\"outlinewidth\":0,\"ticks\":\"\"}},\"colorscale\":{\"sequential\":[[0.0,\"#0d0887\"],[0.1111111111111111,\"#46039f\"],[0.2222222222222222,\"#7201a8\"],[0.3333333333333333,\"#9c179e\"],[0.4444444444444444,\"#bd3786\"],[0.5555555555555556,\"#d8576b\"],[0.6666666666666666,\"#ed7953\"],[0.7777777777777778,\"#fb9f3a\"],[0.8888888888888888,\"#fdca26\"],[1.0,\"#f0f921\"]],\"sequentialminus\":[[0.0,\"#0d0887\"],[0.1111111111111111,\"#46039f\"],[0.2222222222222222,\"#7201a8\"],[0.3333333333333333,\"#9c179e\"],[0.4444444444444444,\"#bd3786\"],[0.5555555555555556,\"#d8576b\"],[0.6666666666666666,\"#ed7953\"],[0.7777777777777778,\"#fb9f3a\"],[0.8888888888888888,\"#fdca26\"],[1.0,\"#f0f921\"]],\"diverging\":[[0,\"#8e0152\"],[0.1,\"#c51b7d\"],[0.2,\"#de77ae\"],[0.3,\"#f1b6da\"],[0.4,\"#fde0ef\"],[0.5,\"#f7f7f7\"],[0.6,\"#e6f5d0\"],[0.7,\"#b8e186\"],[0.8,\"#7fbc41\"],[0.9,\"#4d9221\"],[1,\"#276419\"]]},\"xaxis\":{\"gridcolor\":\"white\",\"linecolor\":\"white\",\"ticks\":\"\",\"title\":{\"standoff\":15},\"zerolinecolor\":\"white\",\"automargin\":true,\"zerolinewidth\":2},\"yaxis\":{\"gridcolor\":\"white\",\"linecolor\":\"white\",\"ticks\":\"\",\"title\":{\"standoff\":15},\"zerolinecolor\":\"white\",\"automargin\":true,\"zerolinewidth\":2},\"scene\":{\"xaxis\":{\"backgroundcolor\":\"#E5ECF6\",\"gridcolor\":\"white\",\"linecolor\":\"white\",\"showbackground\":true,\"ticks\":\"\",\"zerolinecolor\":\"white\",\"gridwidth\":2},\"yaxis\":{\"backgroundcolor\":\"#E5ECF6\",\"gridcolor\":\"white\",\"linecolor\":\"white\",\"showbackground\":true,\"ticks\":\"\",\"zerolinecolor\":\"white\",\"gridwidth\":2},\"zaxis\":{\"backgroundcolor\":\"#E5ECF6\",\"gridcolor\":\"white\",\"linecolor\":\"white\",\"showbackground\":true,\"ticks\":\"\",\"zerolinecolor\":\"white\",\"gridwidth\":2}},\"shapedefaults\":{\"line\":{\"color\":\"#2a3f5f\"}},\"annotationdefaults\":{\"arrowcolor\":\"#2a3f5f\",\"arrowhead\":0,\"arrowwidth\":1},\"geo\":{\"bgcolor\":\"white\",\"landcolor\":\"#E5ECF6\",\"subunitcolor\":\"white\",\"showland\":true,\"showlakes\":true,\"lakecolor\":\"white\"},\"title\":{\"x\":0.05},\"mapbox\":{\"style\":\"light\"}}},\"mapbox\":{\"domain\":{\"x\":[0.0,1.0],\"y\":[0.0,1.0]},\"center\":{\"lat\":-31.850502499999997,\"lon\":145.52237},\"zoom\":3,\"style\":\"carto-positron\"},\"legend\":{\"tracegroupgap\":0},\"margin\":{\"t\":60},\"height\":600},                        {\"responsive\": true}                    ).then(function(){\n",
              "                            \n",
              "var gd = document.getElementById('0dea99f7-9dd4-4914-9afd-28e48012e742');\n",
              "var x = new MutationObserver(function (mutations, observer) {{\n",
              "        var display = window.getComputedStyle(gd).display;\n",
              "        if (!display || display === 'none') {{\n",
              "            console.log([gd, 'removed!']);\n",
              "            Plotly.purge(gd);\n",
              "            observer.disconnect();\n",
              "        }}\n",
              "}});\n",
              "\n",
              "// Listen for the removal of the full notebook cells\n",
              "var notebookContainer = gd.closest('#notebook-container');\n",
              "if (notebookContainer) {{\n",
              "    x.observe(notebookContainer, {childList: true});\n",
              "}}\n",
              "\n",
              "// Listen for the clearing of the current output cell\n",
              "var outputEl = gd.closest('.output');\n",
              "if (outputEl) {{\n",
              "    x.observe(outputEl, {childList: true});\n",
              "}}\n",
              "\n",
              "                        })                };                            </script>        </div>\n",
              "</body>\n",
              "</html>"
            ]
          },
          "metadata": {}
        }
      ]
    },
    {
      "cell_type": "code",
      "source": [
        "# Selecting data from a dataframe\n",
        "cities_coordinates = data.loc[:,['lat', 'lng']].to_numpy()\n",
        "\n",
        "# Selecting names of cities from dataframe\n",
        "cities_names = data.loc[:,['city']].to_numpy()\n",
        "\n",
        "# Printing first 10 rows of cities_coordinates\n",
        "cities_coordinates[:10]"
      ],
      "metadata": {
        "id": "w4Mu4_sPapiJ",
        "colab": {
          "base_uri": "https://localhost:8080/"
        },
        "outputId": "a1609763-85d6-4917-a053-a7825c549b78"
      },
      "execution_count": 487,
      "outputs": [
        {
          "output_type": "execute_result",
          "data": {
            "text/plain": [
              "array([[-33.8678, 151.21  ],\n",
              "       [-37.8142, 144.9631],\n",
              "       [-27.4678, 153.0281],\n",
              "       [-31.9559, 115.8606],\n",
              "       [-34.9275, 138.6   ],\n",
              "       [-35.2931, 149.1269],\n",
              "       [-28.0167, 153.4   ],\n",
              "       [-38.0996, 145.2834],\n",
              "       [-33.3   , 151.2   ],\n",
              "       [-34.4331, 150.8831]])"
            ]
          },
          "metadata": {},
          "execution_count": 487
        }
      ]
    },
    {
      "cell_type": "code",
      "source": [
        "# Getting first row\n",
        "first_city = cities_coordinates[0,:]\n",
        "first_name = cities_names[0,:]\n",
        "\n",
        "# Printing first row\n",
        "first_city\n",
        "first_name"
      ],
      "metadata": {
        "id": "Qq3fs7fOapkx",
        "colab": {
          "base_uri": "https://localhost:8080/"
        },
        "outputId": "75f87cba-17d1-47de-c3ea-55c94068b24d"
      },
      "execution_count": 488,
      "outputs": [
        {
          "output_type": "execute_result",
          "data": {
            "text/plain": [
              "array(['Sydney'], dtype=object)"
            ]
          },
          "metadata": {},
          "execution_count": 488
        }
      ]
    },
    {
      "cell_type": "code",
      "source": [
        "!pip install python_tsp"
      ],
      "metadata": {
        "id": "N8lNx9e4mW1z",
        "colab": {
          "base_uri": "https://localhost:8080/"
        },
        "outputId": "c42de586-3741-49d7-8c13-25fd1b0725e0"
      },
      "execution_count": 489,
      "outputs": [
        {
          "output_type": "stream",
          "name": "stdout",
          "text": [
            "Requirement already satisfied: python_tsp in /usr/local/lib/python3.10/dist-packages (0.4.1)\n",
            "Requirement already satisfied: numpy<2.0.0,>=1.26.3 in /usr/local/lib/python3.10/dist-packages (from python_tsp) (1.26.4)\n",
            "Requirement already satisfied: requests<3.0.0,>=2.28.0 in /usr/local/lib/python3.10/dist-packages (from python_tsp) (2.31.0)\n",
            "Requirement already satisfied: tsplib95<0.8.0,>=0.7.1 in /usr/local/lib/python3.10/dist-packages (from python_tsp) (0.7.1)\n",
            "Requirement already satisfied: charset-normalizer<4,>=2 in /usr/local/lib/python3.10/dist-packages (from requests<3.0.0,>=2.28.0->python_tsp) (3.3.2)\n",
            "Requirement already satisfied: idna<4,>=2.5 in /usr/local/lib/python3.10/dist-packages (from requests<3.0.0,>=2.28.0->python_tsp) (3.6)\n",
            "Requirement already satisfied: urllib3<3,>=1.21.1 in /usr/local/lib/python3.10/dist-packages (from requests<3.0.0,>=2.28.0->python_tsp) (2.0.7)\n",
            "Requirement already satisfied: certifi>=2017.4.17 in /usr/local/lib/python3.10/dist-packages (from requests<3.0.0,>=2.28.0->python_tsp) (2024.2.2)\n",
            "Requirement already satisfied: Click>=6.0 in /usr/local/lib/python3.10/dist-packages (from tsplib95<0.8.0,>=0.7.1->python_tsp) (8.1.7)\n",
            "Requirement already satisfied: Deprecated~=1.2.9 in /usr/local/lib/python3.10/dist-packages (from tsplib95<0.8.0,>=0.7.1->python_tsp) (1.2.14)\n",
            "Requirement already satisfied: networkx~=2.1 in /usr/local/lib/python3.10/dist-packages (from tsplib95<0.8.0,>=0.7.1->python_tsp) (2.8.8)\n",
            "Requirement already satisfied: tabulate~=0.8.7 in /usr/local/lib/python3.10/dist-packages (from tsplib95<0.8.0,>=0.7.1->python_tsp) (0.8.10)\n",
            "Requirement already satisfied: wrapt<2,>=1.10 in /usr/local/lib/python3.10/dist-packages (from Deprecated~=1.2.9->tsplib95<0.8.0,>=0.7.1->python_tsp) (1.14.1)\n"
          ]
        }
      ]
    },
    {
      "cell_type": "code",
      "source": [
        "from python_tsp.distances import great_circle_distance_matrix\n",
        "\n",
        "# Creating distance matrix containing distance from each point to another\n",
        "distance_matrix = great_circle_distance_matrix(cities_coordinates)\n",
        "\n",
        "# Printing distance_matrix and its dimensions\n",
        "print(\"matrix dimensions:\", distance_matrix.shape,\"\\n\")\n",
        "print(np.round(distance_matrix[:8,:8]))"
      ],
      "metadata": {
        "id": "qHEpY_Fnapm2",
        "colab": {
          "base_uri": "https://localhost:8080/"
        },
        "outputId": "141ec36a-b5c7-4ced-9036-7d202405bbbe"
      },
      "execution_count": 490,
      "outputs": [
        {
          "output_type": "stream",
          "name": "stdout",
          "text": [
            "matrix dimensions: (40, 40) \n",
            "\n",
            "[[      0.  713588.  732540. 3290504. 1162182.  247955.  683257.  710890.]\n",
            " [ 713588.       0. 1374807. 2721300.  653686.  465653. 1342885.   42376.]\n",
            " [ 732540. 1374807.       0. 3606405. 1600946.  945420.   71167. 1384979.]\n",
            " [3290504. 2721300. 3606405.       0. 2130881. 3087928. 3623917. 2752157.]\n",
            " [1162182.  653686. 1600946. 2130881.       0.  957967. 1597657.  693385.]\n",
            " [ 247955.  465653.  945420. 3087928.  957967.       0.  904287.  463396.]\n",
            " [ 683257. 1342885.   71167. 3623917. 1597657.  904287.       0. 1351127.]\n",
            " [ 710890.   42376. 1384979. 2752157.  693385.  463396. 1351127.       0.]]\n"
          ]
        }
      ]
    },
    {
      "cell_type": "code",
      "source": [
        "# Checking the number of identical records\n",
        "data.duplicated().sum()"
      ],
      "metadata": {
        "id": "wd85NdEdHZOF",
        "colab": {
          "base_uri": "https://localhost:8080/"
        },
        "outputId": "711a621d-74cd-429d-8df8-d63aaa9dea39"
      },
      "execution_count": 491,
      "outputs": [
        {
          "output_type": "execute_result",
          "data": {
            "text/plain": [
              "0"
            ]
          },
          "metadata": {},
          "execution_count": 491
        }
      ]
    },
    {
      "cell_type": "markdown",
      "source": [
        "## Algorithm Overview\n",
        "\n",
        "### Christofides Algorithm\n",
        "An approximation algorithm providing a solution within 1.5 times the optimal length for metric spaces.\n",
        "\n",
        "### Nearest Neighbor Algorithm\n",
        "A greedy approach that builds a tour by selecting the closest unvisited city at each step.\n",
        "\n",
        "### Lin-Kernighan Heuristic\n",
        "A heuristic optimization method that iteratively improves the solution by edge swapping.\n"
      ],
      "metadata": {
        "id": "KYoMlWde9jta"
      }
    },
    {
      "cell_type": "markdown",
      "source": [
        "##Nearest neighbor"
      ],
      "metadata": {
        "id": "ERAWOQBT9wHy"
      }
    },
    {
      "cell_type": "code",
      "source": [
        "# Nearest Neighbor Algorithm\n",
        "def run_nearest_neighbor_algorithm(distances, start_index=0):\n",
        "    start_time = time.time()\n",
        "\n",
        "    current_index = start_index\n",
        "    unvisited = set(range(len(cities_coordinates)))\n",
        "    unvisited.remove(current_index)\n",
        "    path = [current_index]\n",
        "    total_distance = 0\n",
        "\n",
        "    while unvisited:\n",
        "        nearest_index = min(unvisited, key=lambda city: distances[current_index][city])\n",
        "        total_distance += distances[current_index][nearest_index]\n",
        "        path.append(nearest_index)\n",
        "        unvisited.remove(nearest_index)\n",
        "        current_index = nearest_index\n",
        "\n",
        "    total_distance += distances[path[-1]][start_index]\n",
        "    path.append(start_index)\n",
        "\n",
        "    end_time = time.time()\n",
        "    execution_time = end_time - start_time\n",
        "    print(\"Nearest Neighbor Algorithm Execution Time: {:.2f} seconds\".format(execution_time))\n",
        "    return path, total_distance, execution_time\n",
        "\n",
        "tour_nn, distance_nn, nn_execution_time = run_nearest_neighbor_algorithm(distance_matrix)\n",
        "print(\"Distance of path in kilometers =\", np.round(distance_nn/1000, 2))"
      ],
      "metadata": {
        "id": "7M8B5E2-9g7B",
        "colab": {
          "base_uri": "https://localhost:8080/"
        },
        "outputId": "5987cff4-d246-4340-f4f3-f054c9d880a0"
      },
      "execution_count": 492,
      "outputs": [
        {
          "output_type": "stream",
          "name": "stdout",
          "text": [
            "Nearest Neighbor Algorithm Execution Time: 0.00 seconds\n",
            "Distance of path in kilometers = 13501.23\n"
          ]
        }
      ]
    },
    {
      "cell_type": "markdown",
      "source": [
        "##Christofides"
      ],
      "metadata": {
        "id": "GGal21yp9kFG"
      }
    },
    {
      "cell_type": "code",
      "source": [
        "import math\n",
        "import networkx as nx\n",
        "def calculate_distance(city1, city2):\n",
        "    lat1, lng1 = city1.lat, city1.lng\n",
        "    lat2, lng2 = city2.lat, city2.lng\n",
        "    return math.sqrt((lat2 - lat1)**2 + (lng2 - lng1)**2)\n",
        "\n",
        "def create_graph(data):\n",
        "    G = nx.Graph()\n",
        "    index_map = {row_index: i for i, row_index in enumerate(data.index)}  # Mapping original index to sequential\n",
        "    for i, city1 in enumerate(data.itertuples()):\n",
        "        for j, city2 in enumerate(data.itertuples()):\n",
        "            if i != j:\n",
        "                distance = calculate_distance(city1, city2)\n",
        "                G.add_edge(i, j, weight=distance)\n",
        "    return G, index_map\n",
        "\n",
        "def eulerian_tour(G):\n",
        "    return list(nx.eulerian_circuit(G))\n",
        "\n",
        "def calculate_path_distance(tour, distances):\n",
        "    total_distance = 0\n",
        "    for i in range(len(tour) - 1):\n",
        "        total_distance += distances[tour[i]][tour[i+1]]\n",
        "    total_distance += distances[tour[-1]][tour[0]]\n",
        "    return total_distance\n",
        "\n",
        "def eulerian_to_hamiltonian_tour(eulerian_tour):\n",
        "    hamiltonian_tour = []\n",
        "    for edge in eulerian_tour:\n",
        "        if edge[0] not in hamiltonian_tour:\n",
        "            hamiltonian_tour.append(edge[0])\n",
        "    hamiltonian_tour.append(hamiltonian_tour[0])  # Return to the starting city\n",
        "    return hamiltonian_tour\n",
        "\n",
        "def christofides_tsp(data):\n",
        "    start_time = time.time()\n",
        "    G, index_map = create_graph(data)\n",
        "    T = nx.minimum_spanning_tree(G)\n",
        "    odd_degree_nodes = [i for i in T.nodes if T.degree(i) % 2 == 1]\n",
        "    matching = nx.max_weight_matching(G.subgraph(odd_degree_nodes), maxcardinality=True)\n",
        "    M = nx.MultiGraph(T)\n",
        "    M.add_edges_from(matching)\n",
        "    euler_tour = eulerian_tour(M)\n",
        "    hamilton_tour = eulerian_to_hamiltonian_tour(euler_tour)\n",
        "    # Invert the index_map here:\n",
        "    inverse_index_map = {v: k for k, v in index_map.items()}\n",
        "    # Use the inverted index map to convert back to original indices\n",
        "    total_distance = calculate_path_distance(hamilton_tour, distance_matrix)\n",
        "\n",
        "    execution_time = time.time() - start_time\n",
        "    print(\"Christofides Algorithm Execution Time: {:.2f} seconds\".format(execution_time))\n",
        "\n",
        "    return [inverse_index_map[i] for i in hamilton_tour],total_distance, execution_time # Convert back to original indices\n",
        "\n",
        "\n",
        "tour_ch, christofides_distance,ch_execution_time = christofides_tsp(data)\n",
        "print(\"Christofides Tour:\")\n",
        "for idx in tour_ch:\n",
        "    # Print the city name for each index in the tour\n",
        "    print(data.iloc[idx][\"city\"])"
      ],
      "metadata": {
        "id": "OwU9PUcqaptN",
        "colab": {
          "base_uri": "https://localhost:8080/"
        },
        "outputId": "d0aaf06f-3d68-4188-e383-0438322e52f8"
      },
      "execution_count": 493,
      "outputs": [
        {
          "output_type": "stream",
          "name": "stdout",
          "text": [
            "Christofides Algorithm Execution Time: 0.09 seconds\n",
            "Christofides Tour:\n",
            "Sydney\n",
            "Central Coast\n",
            "Newcastle\n",
            "Port Macquarie\n",
            "Gold Coast\n",
            "Corinda\n",
            "Brisbane\n",
            "Ballarat\n",
            "Bendigo\n",
            "Campbelltown\n",
            "Orange\n",
            "Dubbo\n",
            "Melton\n",
            "Sunbury\n",
            "Melbourne\n",
            "Dandenong\n",
            "Cranbourne\n",
            "Frankston\n",
            "Geraldton\n",
            "Perth\n",
            "Adelaide\n",
            "Leopold\n",
            "Geelong\n",
            "Toowoomba\n",
            "Ipswich\n",
            "Caloundra\n",
            "Hervey Bay\n",
            "Bundaberg\n",
            "Gladstone\n",
            "Mackay\n",
            "Townsville\n",
            "Cairns\n",
            "Darwin\n",
            "Hobart\n",
            "Launceston\n",
            "Pakenham\n",
            "Bunbury\n",
            "Wagga Wagga\n",
            "Canberra\n",
            "Wollongong\n",
            "Sydney\n"
          ]
        }
      ]
    },
    {
      "cell_type": "markdown",
      "source": [
        "## Lin Kernighan\n",
        "\n",
        "\n"
      ],
      "metadata": {
        "id": "RdFtrNxd9nQN"
      }
    },
    {
      "cell_type": "code",
      "source": [
        "def calculate_path_distance(path, distances):\n",
        "    total_distance = 0\n",
        "    for i in range(len(path) - 1):\n",
        "        total_distance += distances[path[i], path[i + 1]]\n",
        "    return total_distance\n",
        "\n",
        "def reverse_subsequence(tour, start_index, end_index):\n",
        "    tour[start_index:end_index + 1] = tour[start_index:end_index + 1][::-1]\n",
        "def lin_kernighan(tour, distances):\n",
        "    start_time = time.time()\n",
        "\n",
        "    best_tour = tour[:]\n",
        "    best_cost = calculate_path_distance(best_tour, distances)\n",
        "\n",
        "    while True:\n",
        "        best_swap = None\n",
        "        for i in range(len(tour)):\n",
        "            for j in range(2, len(tour)):\n",
        "                new_tour = best_tour[:]\n",
        "                reverse_subsequence(new_tour, i, j)\n",
        "                new_cost = calculate_path_distance(new_tour + [new_tour[0]], distance_matrix)\n",
        "                if new_cost < best_cost:\n",
        "                    best_swap = (i, j)\n",
        "                    best_cost = new_cost\n",
        "\n",
        "        if best_swap is None:\n",
        "            break\n",
        "        else:\n",
        "            reverse_subsequence(best_tour, best_swap[0], best_swap[1])\n",
        "\n",
        "    execution_time = time.time() - start_time\n",
        "    print(\"Lin-Kernighan Algorithm Execution Time: {:.2f} seconds\".format(execution_time))\n",
        "    return best_tour , best_cost, execution_time\n",
        "initial_tour = tour_ch\n",
        "tour_lk_WL, total_distance_lin_kernighan,lk_execution_time_custom = lin_kernighan(initial_tour, distance_matrix)\n",
        "print(\"Distance of path in kilometers =\", np.round(total_distance_lin_kernighan/1000, 2))"
      ],
      "metadata": {
        "id": "zgtYqy3aaprP",
        "colab": {
          "base_uri": "https://localhost:8080/"
        },
        "outputId": "37a48f4a-8ca8-4e75-97ab-72f08c47dda2"
      },
      "execution_count": 494,
      "outputs": [
        {
          "output_type": "stream",
          "name": "stdout",
          "text": [
            "Lin-Kernighan Algorithm Execution Time: 0.80 seconds\n",
            "Distance of path in kilometers = 12465.41\n"
          ]
        }
      ]
    },
    {
      "cell_type": "markdown",
      "source": [
        "\n",
        "###Library implementation\n"
      ],
      "metadata": {
        "id": "DRNgR8XJRK91"
      }
    },
    {
      "cell_type": "code",
      "source": [
        "from python_tsp.heuristics import solve_tsp_lin_kernighan\n",
        "start_time = time.time()\n",
        "tour_LK, LK_distance = solve_tsp_lin_kernighan(distance_matrix,tour_ch[:-1])\n",
        "lk_execution_time_lib = time.time() - start_time\n",
        "print(\"Lin-Kernighan Algorithm Execution Time: {:.2f} seconds\".format(lk_execution_time_lib))\n",
        "print(\"Distance of path in kilometers =\", np.round(LK_distance/1000, 2))"
      ],
      "metadata": {
        "id": "fM_we9EiA_qA",
        "colab": {
          "base_uri": "https://localhost:8080/"
        },
        "outputId": "7455b049-41c3-4504-c215-441ee662c06f"
      },
      "execution_count": 495,
      "outputs": [
        {
          "output_type": "stream",
          "name": "stdout",
          "text": [
            "Lin-Kernighan Algorithm Execution Time: 0.01 seconds\n",
            "Distance of path in kilometers = 13395.23\n"
          ]
        }
      ]
    },
    {
      "cell_type": "markdown",
      "source": [
        "## Plots\n"
      ],
      "metadata": {
        "id": "gJ4AmyBv91w2"
      }
    },
    {
      "cell_type": "code",
      "source": [
        "!pip install plotly\n",
        "import plotly.graph_objects as go"
      ],
      "metadata": {
        "id": "SjVDgETU-FHA",
        "colab": {
          "base_uri": "https://localhost:8080/"
        },
        "outputId": "464d5e72-f186-423e-85dc-b7cd0834c863"
      },
      "execution_count": 496,
      "outputs": [
        {
          "output_type": "stream",
          "name": "stdout",
          "text": [
            "Requirement already satisfied: plotly in /usr/local/lib/python3.10/dist-packages (5.15.0)\n",
            "Requirement already satisfied: tenacity>=6.2.0 in /usr/local/lib/python3.10/dist-packages (from plotly) (8.2.3)\n",
            "Requirement already satisfied: packaging in /usr/local/lib/python3.10/dist-packages (from plotly) (24.0)\n"
          ]
        }
      ]
    },
    {
      "cell_type": "markdown",
      "source": [
        "###CHRISTOFIDES PLOT"
      ],
      "metadata": {
        "id": "7tSIUXp0tOpS"
      }
    },
    {
      "cell_type": "code",
      "source": [
        "import plotly.express as px\n",
        "import plotly.graph_objects as go\n",
        "\n",
        "# `best_path` contains the indices of cities in the best path\n",
        "best_path_indices = tour_ch\n",
        "best_path_indices = [i % len(data) for i in best_path_indices]\n",
        "best_path_coordinates = [(data.iloc[idx][\"lat\"], data.iloc[idx][\"lng\"]) for idx in best_path_indices]\n",
        "\n",
        "# Creating a scatter plot using Plotly\n",
        "fig2 = px.scatter_mapbox(data, lat=\"lat\", lon=\"lng\", hover_name=\"city\", zoom=3, height=600, size_max=8)\n",
        "\n",
        "# Adding the best path or solution as a line\n",
        "fig2.add_trace(go.Scattermapbox(\n",
        "    lat=[coord[0] for coord in best_path_coordinates],\n",
        "    lon=[coord[1] for coord in best_path_coordinates],\n",
        "    mode='markers+lines',\n",
        "    name='Best Path',\n",
        "    marker=go.scattermapbox.Marker(size=4),\n",
        "    line=go.scattermapbox.Line(width=1, color='steelblue'),\n",
        "    text=[data.iloc[idx][\"city\"] for idx in tour_ch],\n",
        "))\n",
        "\n",
        "# Customizing the map style\n",
        "fig2.update_layout(mapbox_style=\"carto-positron\",title=\"Best path by christofides algorithm\")\n",
        "\n",
        "# Showing the interactive plot\n",
        "fig2.show()\n",
        "print(\"Execution time is:\")\n",
        "print(ch_execution_time)\n",
        "print(\"Distance is:\")\n",
        "print(christofides_distance)"
      ],
      "metadata": {
        "id": "ix-iN4c_apwq",
        "colab": {
          "base_uri": "https://localhost:8080/",
          "height": 686
        },
        "outputId": "a516d1b4-a777-4cc9-a7c8-de3ea65582a7"
      },
      "execution_count": 497,
      "outputs": [
        {
          "output_type": "display_data",
          "data": {
            "text/html": [
              "<html>\n",
              "<head><meta charset=\"utf-8\" /></head>\n",
              "<body>\n",
              "    <div>            <script src=\"https://cdnjs.cloudflare.com/ajax/libs/mathjax/2.7.5/MathJax.js?config=TeX-AMS-MML_SVG\"></script><script type=\"text/javascript\">if (window.MathJax && window.MathJax.Hub && window.MathJax.Hub.Config) {window.MathJax.Hub.Config({SVG: {font: \"STIX-Web\"}});}</script>                <script type=\"text/javascript\">window.PlotlyConfig = {MathJaxConfig: 'local'};</script>\n",
              "        <script charset=\"utf-8\" src=\"https://cdn.plot.ly/plotly-2.24.1.min.js\"></script>                <div id=\"3474a944-b888-4c07-b7c3-4a46cd55f6f5\" class=\"plotly-graph-div\" style=\"height:600px; width:100%;\"></div>            <script type=\"text/javascript\">                                    window.PLOTLYENV=window.PLOTLYENV || {};                                    if (document.getElementById(\"3474a944-b888-4c07-b7c3-4a46cd55f6f5\")) {                    Plotly.newPlot(                        \"3474a944-b888-4c07-b7c3-4a46cd55f6f5\",                        [{\"hovertemplate\":\"\\u003cb\\u003e%{hovertext}\\u003c\\u002fb\\u003e\\u003cbr\\u003e\\u003cbr\\u003elat=%{lat}\\u003cbr\\u003elng=%{lon}\\u003cextra\\u003e\\u003c\\u002fextra\\u003e\",\"hovertext\":[\"Sydney\",\"Melbourne\",\"Brisbane\",\"Perth\",\"Adelaide\",\"Canberra\",\"Gold Coast\",\"Cranbourne\",\"Central Coast\",\"Wollongong\",\"Hobart\",\"Geelong\",\"Townsville\",\"Ipswich\",\"Newcastle\",\"Cairns\",\"Darwin\",\"Toowoomba\",\"Launceston\",\"Caloundra\",\"Dandenong\",\"Campbelltown\",\"Leopold\",\"Corinda\",\"Ballarat\",\"Bendigo\",\"Mackay\",\"Melton\",\"Bunbury\",\"Bundaberg\",\"Wagga Wagga\",\"Hervey Bay\",\"Pakenham\",\"Port Macquarie\",\"Dubbo\",\"Orange\",\"Sunbury\",\"Geraldton\",\"Frankston\",\"Gladstone\"],\"lat\":[-33.8678,-37.8142,-27.4678,-31.9559,-34.9275,-35.2931,-28.0167,-38.0996,-33.3,-34.4331,-42.8806,-38.15,-19.25,-27.6167,-32.9167,-16.92,-12.4381,-27.5667,-41.4419,-26.7986,-37.981,-34.0733,-38.1892,-27.4833,-37.5608,-36.75,-21.1411,-37.6833,-33.3272,-24.8661,-35.1189,-25.29,-38.0712,-31.4333,-32.2569,-33.2833,-37.5811,-28.7744,-38.158,-23.8427],\"legendgroup\":\"\",\"lon\":[151.21,144.9631,153.0281,115.8606,138.6,149.1269,153.4,145.2834,151.2,150.8831,147.325,144.35,146.8167,152.7667,151.75,145.78,130.8411,151.95,147.145,153.1289,145.215,150.8261,144.4644,153.1,143.8475,144.2667,149.1858,144.5833,115.6369,152.3494,147.3689,152.84,145.4878,152.9,148.6011,149.1,144.7139,114.6089,145.135,151.2555],\"marker\":{\"color\":\"#636efa\"},\"mode\":\"markers\",\"name\":\"\",\"showlegend\":false,\"subplot\":\"mapbox\",\"type\":\"scattermapbox\"},{\"lat\":[-33.8678,-33.3,-32.9167,-31.4333,-28.0167,-27.4833,-27.4678,-37.5608,-36.75,-34.0733,-33.2833,-32.2569,-37.6833,-37.5811,-37.8142,-37.981,-38.0996,-38.158,-28.7744,-31.9559,-34.9275,-38.1892,-38.15,-27.5667,-27.6167,-26.7986,-25.29,-24.8661,-23.8427,-21.1411,-19.25,-16.92,-12.4381,-42.8806,-41.4419,-38.0712,-33.3272,-35.1189,-35.2931,-34.4331,-33.8678],\"line\":{\"color\":\"steelblue\",\"width\":1},\"lon\":[151.21,151.2,151.75,152.9,153.4,153.1,153.0281,143.8475,144.2667,150.8261,149.1,148.6011,144.5833,144.7139,144.9631,145.215,145.2834,145.135,114.6089,115.8606,138.6,144.4644,144.35,151.95,152.7667,153.1289,152.84,152.3494,151.2555,149.1858,146.8167,145.78,130.8411,147.325,147.145,145.4878,115.6369,147.3689,149.1269,150.8831,151.21],\"marker\":{\"size\":4},\"mode\":\"markers+lines\",\"name\":\"Best Path\",\"text\":[\"Sydney\",\"Central Coast\",\"Newcastle\",\"Port Macquarie\",\"Gold Coast\",\"Corinda\",\"Brisbane\",\"Ballarat\",\"Bendigo\",\"Campbelltown\",\"Orange\",\"Dubbo\",\"Melton\",\"Sunbury\",\"Melbourne\",\"Dandenong\",\"Cranbourne\",\"Frankston\",\"Geraldton\",\"Perth\",\"Adelaide\",\"Leopold\",\"Geelong\",\"Toowoomba\",\"Ipswich\",\"Caloundra\",\"Hervey Bay\",\"Bundaberg\",\"Gladstone\",\"Mackay\",\"Townsville\",\"Cairns\",\"Darwin\",\"Hobart\",\"Launceston\",\"Pakenham\",\"Bunbury\",\"Wagga Wagga\",\"Canberra\",\"Wollongong\",\"Sydney\"],\"type\":\"scattermapbox\"}],                        {\"template\":{\"data\":{\"histogram2dcontour\":[{\"type\":\"histogram2dcontour\",\"colorbar\":{\"outlinewidth\":0,\"ticks\":\"\"},\"colorscale\":[[0.0,\"#0d0887\"],[0.1111111111111111,\"#46039f\"],[0.2222222222222222,\"#7201a8\"],[0.3333333333333333,\"#9c179e\"],[0.4444444444444444,\"#bd3786\"],[0.5555555555555556,\"#d8576b\"],[0.6666666666666666,\"#ed7953\"],[0.7777777777777778,\"#fb9f3a\"],[0.8888888888888888,\"#fdca26\"],[1.0,\"#f0f921\"]]}],\"choropleth\":[{\"type\":\"choropleth\",\"colorbar\":{\"outlinewidth\":0,\"ticks\":\"\"}}],\"histogram2d\":[{\"type\":\"histogram2d\",\"colorbar\":{\"outlinewidth\":0,\"ticks\":\"\"},\"colorscale\":[[0.0,\"#0d0887\"],[0.1111111111111111,\"#46039f\"],[0.2222222222222222,\"#7201a8\"],[0.3333333333333333,\"#9c179e\"],[0.4444444444444444,\"#bd3786\"],[0.5555555555555556,\"#d8576b\"],[0.6666666666666666,\"#ed7953\"],[0.7777777777777778,\"#fb9f3a\"],[0.8888888888888888,\"#fdca26\"],[1.0,\"#f0f921\"]]}],\"heatmap\":[{\"type\":\"heatmap\",\"colorbar\":{\"outlinewidth\":0,\"ticks\":\"\"},\"colorscale\":[[0.0,\"#0d0887\"],[0.1111111111111111,\"#46039f\"],[0.2222222222222222,\"#7201a8\"],[0.3333333333333333,\"#9c179e\"],[0.4444444444444444,\"#bd3786\"],[0.5555555555555556,\"#d8576b\"],[0.6666666666666666,\"#ed7953\"],[0.7777777777777778,\"#fb9f3a\"],[0.8888888888888888,\"#fdca26\"],[1.0,\"#f0f921\"]]}],\"heatmapgl\":[{\"type\":\"heatmapgl\",\"colorbar\":{\"outlinewidth\":0,\"ticks\":\"\"},\"colorscale\":[[0.0,\"#0d0887\"],[0.1111111111111111,\"#46039f\"],[0.2222222222222222,\"#7201a8\"],[0.3333333333333333,\"#9c179e\"],[0.4444444444444444,\"#bd3786\"],[0.5555555555555556,\"#d8576b\"],[0.6666666666666666,\"#ed7953\"],[0.7777777777777778,\"#fb9f3a\"],[0.8888888888888888,\"#fdca26\"],[1.0,\"#f0f921\"]]}],\"contourcarpet\":[{\"type\":\"contourcarpet\",\"colorbar\":{\"outlinewidth\":0,\"ticks\":\"\"}}],\"contour\":[{\"type\":\"contour\",\"colorbar\":{\"outlinewidth\":0,\"ticks\":\"\"},\"colorscale\":[[0.0,\"#0d0887\"],[0.1111111111111111,\"#46039f\"],[0.2222222222222222,\"#7201a8\"],[0.3333333333333333,\"#9c179e\"],[0.4444444444444444,\"#bd3786\"],[0.5555555555555556,\"#d8576b\"],[0.6666666666666666,\"#ed7953\"],[0.7777777777777778,\"#fb9f3a\"],[0.8888888888888888,\"#fdca26\"],[1.0,\"#f0f921\"]]}],\"surface\":[{\"type\":\"surface\",\"colorbar\":{\"outlinewidth\":0,\"ticks\":\"\"},\"colorscale\":[[0.0,\"#0d0887\"],[0.1111111111111111,\"#46039f\"],[0.2222222222222222,\"#7201a8\"],[0.3333333333333333,\"#9c179e\"],[0.4444444444444444,\"#bd3786\"],[0.5555555555555556,\"#d8576b\"],[0.6666666666666666,\"#ed7953\"],[0.7777777777777778,\"#fb9f3a\"],[0.8888888888888888,\"#fdca26\"],[1.0,\"#f0f921\"]]}],\"mesh3d\":[{\"type\":\"mesh3d\",\"colorbar\":{\"outlinewidth\":0,\"ticks\":\"\"}}],\"scatter\":[{\"fillpattern\":{\"fillmode\":\"overlay\",\"size\":10,\"solidity\":0.2},\"type\":\"scatter\"}],\"parcoords\":[{\"type\":\"parcoords\",\"line\":{\"colorbar\":{\"outlinewidth\":0,\"ticks\":\"\"}}}],\"scatterpolargl\":[{\"type\":\"scatterpolargl\",\"marker\":{\"colorbar\":{\"outlinewidth\":0,\"ticks\":\"\"}}}],\"bar\":[{\"error_x\":{\"color\":\"#2a3f5f\"},\"error_y\":{\"color\":\"#2a3f5f\"},\"marker\":{\"line\":{\"color\":\"#E5ECF6\",\"width\":0.5},\"pattern\":{\"fillmode\":\"overlay\",\"size\":10,\"solidity\":0.2}},\"type\":\"bar\"}],\"scattergeo\":[{\"type\":\"scattergeo\",\"marker\":{\"colorbar\":{\"outlinewidth\":0,\"ticks\":\"\"}}}],\"scatterpolar\":[{\"type\":\"scatterpolar\",\"marker\":{\"colorbar\":{\"outlinewidth\":0,\"ticks\":\"\"}}}],\"histogram\":[{\"marker\":{\"pattern\":{\"fillmode\":\"overlay\",\"size\":10,\"solidity\":0.2}},\"type\":\"histogram\"}],\"scattergl\":[{\"type\":\"scattergl\",\"marker\":{\"colorbar\":{\"outlinewidth\":0,\"ticks\":\"\"}}}],\"scatter3d\":[{\"type\":\"scatter3d\",\"line\":{\"colorbar\":{\"outlinewidth\":0,\"ticks\":\"\"}},\"marker\":{\"colorbar\":{\"outlinewidth\":0,\"ticks\":\"\"}}}],\"scattermapbox\":[{\"type\":\"scattermapbox\",\"marker\":{\"colorbar\":{\"outlinewidth\":0,\"ticks\":\"\"}}}],\"scatterternary\":[{\"type\":\"scatterternary\",\"marker\":{\"colorbar\":{\"outlinewidth\":0,\"ticks\":\"\"}}}],\"scattercarpet\":[{\"type\":\"scattercarpet\",\"marker\":{\"colorbar\":{\"outlinewidth\":0,\"ticks\":\"\"}}}],\"carpet\":[{\"aaxis\":{\"endlinecolor\":\"#2a3f5f\",\"gridcolor\":\"white\",\"linecolor\":\"white\",\"minorgridcolor\":\"white\",\"startlinecolor\":\"#2a3f5f\"},\"baxis\":{\"endlinecolor\":\"#2a3f5f\",\"gridcolor\":\"white\",\"linecolor\":\"white\",\"minorgridcolor\":\"white\",\"startlinecolor\":\"#2a3f5f\"},\"type\":\"carpet\"}],\"table\":[{\"cells\":{\"fill\":{\"color\":\"#EBF0F8\"},\"line\":{\"color\":\"white\"}},\"header\":{\"fill\":{\"color\":\"#C8D4E3\"},\"line\":{\"color\":\"white\"}},\"type\":\"table\"}],\"barpolar\":[{\"marker\":{\"line\":{\"color\":\"#E5ECF6\",\"width\":0.5},\"pattern\":{\"fillmode\":\"overlay\",\"size\":10,\"solidity\":0.2}},\"type\":\"barpolar\"}],\"pie\":[{\"automargin\":true,\"type\":\"pie\"}]},\"layout\":{\"autotypenumbers\":\"strict\",\"colorway\":[\"#636efa\",\"#EF553B\",\"#00cc96\",\"#ab63fa\",\"#FFA15A\",\"#19d3f3\",\"#FF6692\",\"#B6E880\",\"#FF97FF\",\"#FECB52\"],\"font\":{\"color\":\"#2a3f5f\"},\"hovermode\":\"closest\",\"hoverlabel\":{\"align\":\"left\"},\"paper_bgcolor\":\"white\",\"plot_bgcolor\":\"#E5ECF6\",\"polar\":{\"bgcolor\":\"#E5ECF6\",\"angularaxis\":{\"gridcolor\":\"white\",\"linecolor\":\"white\",\"ticks\":\"\"},\"radialaxis\":{\"gridcolor\":\"white\",\"linecolor\":\"white\",\"ticks\":\"\"}},\"ternary\":{\"bgcolor\":\"#E5ECF6\",\"aaxis\":{\"gridcolor\":\"white\",\"linecolor\":\"white\",\"ticks\":\"\"},\"baxis\":{\"gridcolor\":\"white\",\"linecolor\":\"white\",\"ticks\":\"\"},\"caxis\":{\"gridcolor\":\"white\",\"linecolor\":\"white\",\"ticks\":\"\"}},\"coloraxis\":{\"colorbar\":{\"outlinewidth\":0,\"ticks\":\"\"}},\"colorscale\":{\"sequential\":[[0.0,\"#0d0887\"],[0.1111111111111111,\"#46039f\"],[0.2222222222222222,\"#7201a8\"],[0.3333333333333333,\"#9c179e\"],[0.4444444444444444,\"#bd3786\"],[0.5555555555555556,\"#d8576b\"],[0.6666666666666666,\"#ed7953\"],[0.7777777777777778,\"#fb9f3a\"],[0.8888888888888888,\"#fdca26\"],[1.0,\"#f0f921\"]],\"sequentialminus\":[[0.0,\"#0d0887\"],[0.1111111111111111,\"#46039f\"],[0.2222222222222222,\"#7201a8\"],[0.3333333333333333,\"#9c179e\"],[0.4444444444444444,\"#bd3786\"],[0.5555555555555556,\"#d8576b\"],[0.6666666666666666,\"#ed7953\"],[0.7777777777777778,\"#fb9f3a\"],[0.8888888888888888,\"#fdca26\"],[1.0,\"#f0f921\"]],\"diverging\":[[0,\"#8e0152\"],[0.1,\"#c51b7d\"],[0.2,\"#de77ae\"],[0.3,\"#f1b6da\"],[0.4,\"#fde0ef\"],[0.5,\"#f7f7f7\"],[0.6,\"#e6f5d0\"],[0.7,\"#b8e186\"],[0.8,\"#7fbc41\"],[0.9,\"#4d9221\"],[1,\"#276419\"]]},\"xaxis\":{\"gridcolor\":\"white\",\"linecolor\":\"white\",\"ticks\":\"\",\"title\":{\"standoff\":15},\"zerolinecolor\":\"white\",\"automargin\":true,\"zerolinewidth\":2},\"yaxis\":{\"gridcolor\":\"white\",\"linecolor\":\"white\",\"ticks\":\"\",\"title\":{\"standoff\":15},\"zerolinecolor\":\"white\",\"automargin\":true,\"zerolinewidth\":2},\"scene\":{\"xaxis\":{\"backgroundcolor\":\"#E5ECF6\",\"gridcolor\":\"white\",\"linecolor\":\"white\",\"showbackground\":true,\"ticks\":\"\",\"zerolinecolor\":\"white\",\"gridwidth\":2},\"yaxis\":{\"backgroundcolor\":\"#E5ECF6\",\"gridcolor\":\"white\",\"linecolor\":\"white\",\"showbackground\":true,\"ticks\":\"\",\"zerolinecolor\":\"white\",\"gridwidth\":2},\"zaxis\":{\"backgroundcolor\":\"#E5ECF6\",\"gridcolor\":\"white\",\"linecolor\":\"white\",\"showbackground\":true,\"ticks\":\"\",\"zerolinecolor\":\"white\",\"gridwidth\":2}},\"shapedefaults\":{\"line\":{\"color\":\"#2a3f5f\"}},\"annotationdefaults\":{\"arrowcolor\":\"#2a3f5f\",\"arrowhead\":0,\"arrowwidth\":1},\"geo\":{\"bgcolor\":\"white\",\"landcolor\":\"#E5ECF6\",\"subunitcolor\":\"white\",\"showland\":true,\"showlakes\":true,\"lakecolor\":\"white\"},\"title\":{\"x\":0.05},\"mapbox\":{\"style\":\"light\"}}},\"mapbox\":{\"domain\":{\"x\":[0.0,1.0],\"y\":[0.0,1.0]},\"center\":{\"lat\":-31.850502499999997,\"lon\":145.52237},\"zoom\":3,\"style\":\"carto-positron\"},\"legend\":{\"tracegroupgap\":0},\"margin\":{\"t\":60},\"height\":600,\"title\":{\"text\":\"Best path by christofides algorithm\"}},                        {\"responsive\": true}                    ).then(function(){\n",
              "                            \n",
              "var gd = document.getElementById('3474a944-b888-4c07-b7c3-4a46cd55f6f5');\n",
              "var x = new MutationObserver(function (mutations, observer) {{\n",
              "        var display = window.getComputedStyle(gd).display;\n",
              "        if (!display || display === 'none') {{\n",
              "            console.log([gd, 'removed!']);\n",
              "            Plotly.purge(gd);\n",
              "            observer.disconnect();\n",
              "        }}\n",
              "}});\n",
              "\n",
              "// Listen for the removal of the full notebook cells\n",
              "var notebookContainer = gd.closest('#notebook-container');\n",
              "if (notebookContainer) {{\n",
              "    x.observe(notebookContainer, {childList: true});\n",
              "}}\n",
              "\n",
              "// Listen for the clearing of the current output cell\n",
              "var outputEl = gd.closest('.output');\n",
              "if (outputEl) {{\n",
              "    x.observe(outputEl, {childList: true});\n",
              "}}\n",
              "\n",
              "                        })                };                            </script>        </div>\n",
              "</body>\n",
              "</html>"
            ]
          },
          "metadata": {}
        },
        {
          "output_type": "stream",
          "name": "stdout",
          "text": [
            "Execution time is:\n",
            "0.08934521675109863\n",
            "Distance is:\n",
            "25198520.432865772\n"
          ]
        }
      ]
    },
    {
      "cell_type": "markdown",
      "source": [
        "###LIN KERNIGHAN WITHOUT LIBRARY CODE PLOT"
      ],
      "metadata": {
        "id": "kxhs-627YpfA"
      }
    },
    {
      "cell_type": "code",
      "source": [
        "import plotly.express as px\n",
        "import plotly.graph_objects as go\n",
        "\n",
        "# `best_path` contains the indices of cities in the best path\n",
        "best_path_indices = tour_lk_WL\n",
        "best_path_indices = [i % len(data) for i in best_path_indices]\n",
        "best_path_coordinates = [(data.iloc[idx][\"lat\"], data.iloc[idx][\"lng\"]) for idx in best_path_indices]\n",
        "\n",
        "# Creating a scatter plot using Plotly\n",
        "fig2 = px.scatter_mapbox(data, lat=\"lat\", lon=\"lng\", hover_name=\"city\", zoom=3, height=600, size_max=8)\n",
        "\n",
        "# Adding the best path or solution as a line\n",
        "fig2.add_trace(go.Scattermapbox(\n",
        "    lat=[coord[0] for coord in best_path_coordinates],\n",
        "    lon=[coord[1] for coord in best_path_coordinates],\n",
        "    mode='markers+lines',\n",
        "    name='Best Path',\n",
        "    marker=go.scattermapbox.Marker(size=4),\n",
        "    line=go.scattermapbox.Line(width=1, color='steelblue'),\n",
        "    text=[data.iloc[idx][\"city\"] for idx in tour_lk_WL],\n",
        "))\n",
        "\n",
        "# Customizing the map style\n",
        "fig2.update_layout(mapbox_style=\"carto-positron\",title=\"Best path by lin kernighan algorithm without library\")\n",
        "\n",
        "# Showing the interactive plot\n",
        "fig2.show()\n",
        "print(\"Execution time is:\")\n",
        "print(lk_execution_time_custom)\n",
        "print(\"Distance is:\")\n",
        "print(total_distance_lin_kernighan)"
      ],
      "metadata": {
        "colab": {
          "base_uri": "https://localhost:8080/",
          "height": 686
        },
        "id": "K1fiGobBYji2",
        "outputId": "7e19a6e2-53a5-432d-9832-b5b91a37b0f7"
      },
      "execution_count": 498,
      "outputs": [
        {
          "output_type": "display_data",
          "data": {
            "text/html": [
              "<html>\n",
              "<head><meta charset=\"utf-8\" /></head>\n",
              "<body>\n",
              "    <div>            <script src=\"https://cdnjs.cloudflare.com/ajax/libs/mathjax/2.7.5/MathJax.js?config=TeX-AMS-MML_SVG\"></script><script type=\"text/javascript\">if (window.MathJax && window.MathJax.Hub && window.MathJax.Hub.Config) {window.MathJax.Hub.Config({SVG: {font: \"STIX-Web\"}});}</script>                <script type=\"text/javascript\">window.PlotlyConfig = {MathJaxConfig: 'local'};</script>\n",
              "        <script charset=\"utf-8\" src=\"https://cdn.plot.ly/plotly-2.24.1.min.js\"></script>                <div id=\"05e02a8b-d5fb-49a2-9ce9-336d6e94e6c0\" class=\"plotly-graph-div\" style=\"height:600px; width:100%;\"></div>            <script type=\"text/javascript\">                                    window.PLOTLYENV=window.PLOTLYENV || {};                                    if (document.getElementById(\"05e02a8b-d5fb-49a2-9ce9-336d6e94e6c0\")) {                    Plotly.newPlot(                        \"05e02a8b-d5fb-49a2-9ce9-336d6e94e6c0\",                        [{\"hovertemplate\":\"\\u003cb\\u003e%{hovertext}\\u003c\\u002fb\\u003e\\u003cbr\\u003e\\u003cbr\\u003elat=%{lat}\\u003cbr\\u003elng=%{lon}\\u003cextra\\u003e\\u003c\\u002fextra\\u003e\",\"hovertext\":[\"Sydney\",\"Melbourne\",\"Brisbane\",\"Perth\",\"Adelaide\",\"Canberra\",\"Gold Coast\",\"Cranbourne\",\"Central Coast\",\"Wollongong\",\"Hobart\",\"Geelong\",\"Townsville\",\"Ipswich\",\"Newcastle\",\"Cairns\",\"Darwin\",\"Toowoomba\",\"Launceston\",\"Caloundra\",\"Dandenong\",\"Campbelltown\",\"Leopold\",\"Corinda\",\"Ballarat\",\"Bendigo\",\"Mackay\",\"Melton\",\"Bunbury\",\"Bundaberg\",\"Wagga Wagga\",\"Hervey Bay\",\"Pakenham\",\"Port Macquarie\",\"Dubbo\",\"Orange\",\"Sunbury\",\"Geraldton\",\"Frankston\",\"Gladstone\"],\"lat\":[-33.8678,-37.8142,-27.4678,-31.9559,-34.9275,-35.2931,-28.0167,-38.0996,-33.3,-34.4331,-42.8806,-38.15,-19.25,-27.6167,-32.9167,-16.92,-12.4381,-27.5667,-41.4419,-26.7986,-37.981,-34.0733,-38.1892,-27.4833,-37.5608,-36.75,-21.1411,-37.6833,-33.3272,-24.8661,-35.1189,-25.29,-38.0712,-31.4333,-32.2569,-33.2833,-37.5811,-28.7744,-38.158,-23.8427],\"legendgroup\":\"\",\"lon\":[151.21,144.9631,153.0281,115.8606,138.6,149.1269,153.4,145.2834,151.2,150.8831,147.325,144.35,146.8167,152.7667,151.75,145.78,130.8411,151.95,147.145,153.1289,145.215,150.8261,144.4644,153.1,143.8475,144.2667,149.1858,144.5833,115.6369,152.3494,147.3689,152.84,145.4878,152.9,148.6011,149.1,144.7139,114.6089,145.135,151.2555],\"marker\":{\"color\":\"#636efa\"},\"mode\":\"markers\",\"name\":\"\",\"showlegend\":false,\"subplot\":\"mapbox\",\"type\":\"scattermapbox\"},{\"lat\":[-33.8678,-33.3,-32.9167,-31.4333,-28.0167,-27.4833,-27.4678,-27.6167,-27.5667,-26.7986,-25.29,-24.8661,-23.8427,-21.1411,-19.25,-16.92,-12.4381,-28.7744,-31.9559,-33.3272,-34.9275,-36.75,-37.5608,-38.15,-38.1892,-37.6833,-37.5811,-37.8142,-37.981,-38.158,-38.0996,-38.0712,-42.8806,-41.4419,-35.1189,-35.2931,-33.2833,-32.2569,-34.0733,-34.4331,-33.8678],\"line\":{\"color\":\"steelblue\",\"width\":1},\"lon\":[151.21,151.2,151.75,152.9,153.4,153.1,153.0281,152.7667,151.95,153.1289,152.84,152.3494,151.2555,149.1858,146.8167,145.78,130.8411,114.6089,115.8606,115.6369,138.6,144.2667,143.8475,144.35,144.4644,144.5833,144.7139,144.9631,145.215,145.135,145.2834,145.4878,147.325,147.145,147.3689,149.1269,149.1,148.6011,150.8261,150.8831,151.21],\"marker\":{\"size\":4},\"mode\":\"markers+lines\",\"name\":\"Best Path\",\"text\":[\"Sydney\",\"Central Coast\",\"Newcastle\",\"Port Macquarie\",\"Gold Coast\",\"Corinda\",\"Brisbane\",\"Ipswich\",\"Toowoomba\",\"Caloundra\",\"Hervey Bay\",\"Bundaberg\",\"Gladstone\",\"Mackay\",\"Townsville\",\"Cairns\",\"Darwin\",\"Geraldton\",\"Perth\",\"Bunbury\",\"Adelaide\",\"Bendigo\",\"Ballarat\",\"Geelong\",\"Leopold\",\"Melton\",\"Sunbury\",\"Melbourne\",\"Dandenong\",\"Frankston\",\"Cranbourne\",\"Pakenham\",\"Hobart\",\"Launceston\",\"Wagga Wagga\",\"Canberra\",\"Orange\",\"Dubbo\",\"Campbelltown\",\"Wollongong\",\"Sydney\"],\"type\":\"scattermapbox\"}],                        {\"template\":{\"data\":{\"histogram2dcontour\":[{\"type\":\"histogram2dcontour\",\"colorbar\":{\"outlinewidth\":0,\"ticks\":\"\"},\"colorscale\":[[0.0,\"#0d0887\"],[0.1111111111111111,\"#46039f\"],[0.2222222222222222,\"#7201a8\"],[0.3333333333333333,\"#9c179e\"],[0.4444444444444444,\"#bd3786\"],[0.5555555555555556,\"#d8576b\"],[0.6666666666666666,\"#ed7953\"],[0.7777777777777778,\"#fb9f3a\"],[0.8888888888888888,\"#fdca26\"],[1.0,\"#f0f921\"]]}],\"choropleth\":[{\"type\":\"choropleth\",\"colorbar\":{\"outlinewidth\":0,\"ticks\":\"\"}}],\"histogram2d\":[{\"type\":\"histogram2d\",\"colorbar\":{\"outlinewidth\":0,\"ticks\":\"\"},\"colorscale\":[[0.0,\"#0d0887\"],[0.1111111111111111,\"#46039f\"],[0.2222222222222222,\"#7201a8\"],[0.3333333333333333,\"#9c179e\"],[0.4444444444444444,\"#bd3786\"],[0.5555555555555556,\"#d8576b\"],[0.6666666666666666,\"#ed7953\"],[0.7777777777777778,\"#fb9f3a\"],[0.8888888888888888,\"#fdca26\"],[1.0,\"#f0f921\"]]}],\"heatmap\":[{\"type\":\"heatmap\",\"colorbar\":{\"outlinewidth\":0,\"ticks\":\"\"},\"colorscale\":[[0.0,\"#0d0887\"],[0.1111111111111111,\"#46039f\"],[0.2222222222222222,\"#7201a8\"],[0.3333333333333333,\"#9c179e\"],[0.4444444444444444,\"#bd3786\"],[0.5555555555555556,\"#d8576b\"],[0.6666666666666666,\"#ed7953\"],[0.7777777777777778,\"#fb9f3a\"],[0.8888888888888888,\"#fdca26\"],[1.0,\"#f0f921\"]]}],\"heatmapgl\":[{\"type\":\"heatmapgl\",\"colorbar\":{\"outlinewidth\":0,\"ticks\":\"\"},\"colorscale\":[[0.0,\"#0d0887\"],[0.1111111111111111,\"#46039f\"],[0.2222222222222222,\"#7201a8\"],[0.3333333333333333,\"#9c179e\"],[0.4444444444444444,\"#bd3786\"],[0.5555555555555556,\"#d8576b\"],[0.6666666666666666,\"#ed7953\"],[0.7777777777777778,\"#fb9f3a\"],[0.8888888888888888,\"#fdca26\"],[1.0,\"#f0f921\"]]}],\"contourcarpet\":[{\"type\":\"contourcarpet\",\"colorbar\":{\"outlinewidth\":0,\"ticks\":\"\"}}],\"contour\":[{\"type\":\"contour\",\"colorbar\":{\"outlinewidth\":0,\"ticks\":\"\"},\"colorscale\":[[0.0,\"#0d0887\"],[0.1111111111111111,\"#46039f\"],[0.2222222222222222,\"#7201a8\"],[0.3333333333333333,\"#9c179e\"],[0.4444444444444444,\"#bd3786\"],[0.5555555555555556,\"#d8576b\"],[0.6666666666666666,\"#ed7953\"],[0.7777777777777778,\"#fb9f3a\"],[0.8888888888888888,\"#fdca26\"],[1.0,\"#f0f921\"]]}],\"surface\":[{\"type\":\"surface\",\"colorbar\":{\"outlinewidth\":0,\"ticks\":\"\"},\"colorscale\":[[0.0,\"#0d0887\"],[0.1111111111111111,\"#46039f\"],[0.2222222222222222,\"#7201a8\"],[0.3333333333333333,\"#9c179e\"],[0.4444444444444444,\"#bd3786\"],[0.5555555555555556,\"#d8576b\"],[0.6666666666666666,\"#ed7953\"],[0.7777777777777778,\"#fb9f3a\"],[0.8888888888888888,\"#fdca26\"],[1.0,\"#f0f921\"]]}],\"mesh3d\":[{\"type\":\"mesh3d\",\"colorbar\":{\"outlinewidth\":0,\"ticks\":\"\"}}],\"scatter\":[{\"fillpattern\":{\"fillmode\":\"overlay\",\"size\":10,\"solidity\":0.2},\"type\":\"scatter\"}],\"parcoords\":[{\"type\":\"parcoords\",\"line\":{\"colorbar\":{\"outlinewidth\":0,\"ticks\":\"\"}}}],\"scatterpolargl\":[{\"type\":\"scatterpolargl\",\"marker\":{\"colorbar\":{\"outlinewidth\":0,\"ticks\":\"\"}}}],\"bar\":[{\"error_x\":{\"color\":\"#2a3f5f\"},\"error_y\":{\"color\":\"#2a3f5f\"},\"marker\":{\"line\":{\"color\":\"#E5ECF6\",\"width\":0.5},\"pattern\":{\"fillmode\":\"overlay\",\"size\":10,\"solidity\":0.2}},\"type\":\"bar\"}],\"scattergeo\":[{\"type\":\"scattergeo\",\"marker\":{\"colorbar\":{\"outlinewidth\":0,\"ticks\":\"\"}}}],\"scatterpolar\":[{\"type\":\"scatterpolar\",\"marker\":{\"colorbar\":{\"outlinewidth\":0,\"ticks\":\"\"}}}],\"histogram\":[{\"marker\":{\"pattern\":{\"fillmode\":\"overlay\",\"size\":10,\"solidity\":0.2}},\"type\":\"histogram\"}],\"scattergl\":[{\"type\":\"scattergl\",\"marker\":{\"colorbar\":{\"outlinewidth\":0,\"ticks\":\"\"}}}],\"scatter3d\":[{\"type\":\"scatter3d\",\"line\":{\"colorbar\":{\"outlinewidth\":0,\"ticks\":\"\"}},\"marker\":{\"colorbar\":{\"outlinewidth\":0,\"ticks\":\"\"}}}],\"scattermapbox\":[{\"type\":\"scattermapbox\",\"marker\":{\"colorbar\":{\"outlinewidth\":0,\"ticks\":\"\"}}}],\"scatterternary\":[{\"type\":\"scatterternary\",\"marker\":{\"colorbar\":{\"outlinewidth\":0,\"ticks\":\"\"}}}],\"scattercarpet\":[{\"type\":\"scattercarpet\",\"marker\":{\"colorbar\":{\"outlinewidth\":0,\"ticks\":\"\"}}}],\"carpet\":[{\"aaxis\":{\"endlinecolor\":\"#2a3f5f\",\"gridcolor\":\"white\",\"linecolor\":\"white\",\"minorgridcolor\":\"white\",\"startlinecolor\":\"#2a3f5f\"},\"baxis\":{\"endlinecolor\":\"#2a3f5f\",\"gridcolor\":\"white\",\"linecolor\":\"white\",\"minorgridcolor\":\"white\",\"startlinecolor\":\"#2a3f5f\"},\"type\":\"carpet\"}],\"table\":[{\"cells\":{\"fill\":{\"color\":\"#EBF0F8\"},\"line\":{\"color\":\"white\"}},\"header\":{\"fill\":{\"color\":\"#C8D4E3\"},\"line\":{\"color\":\"white\"}},\"type\":\"table\"}],\"barpolar\":[{\"marker\":{\"line\":{\"color\":\"#E5ECF6\",\"width\":0.5},\"pattern\":{\"fillmode\":\"overlay\",\"size\":10,\"solidity\":0.2}},\"type\":\"barpolar\"}],\"pie\":[{\"automargin\":true,\"type\":\"pie\"}]},\"layout\":{\"autotypenumbers\":\"strict\",\"colorway\":[\"#636efa\",\"#EF553B\",\"#00cc96\",\"#ab63fa\",\"#FFA15A\",\"#19d3f3\",\"#FF6692\",\"#B6E880\",\"#FF97FF\",\"#FECB52\"],\"font\":{\"color\":\"#2a3f5f\"},\"hovermode\":\"closest\",\"hoverlabel\":{\"align\":\"left\"},\"paper_bgcolor\":\"white\",\"plot_bgcolor\":\"#E5ECF6\",\"polar\":{\"bgcolor\":\"#E5ECF6\",\"angularaxis\":{\"gridcolor\":\"white\",\"linecolor\":\"white\",\"ticks\":\"\"},\"radialaxis\":{\"gridcolor\":\"white\",\"linecolor\":\"white\",\"ticks\":\"\"}},\"ternary\":{\"bgcolor\":\"#E5ECF6\",\"aaxis\":{\"gridcolor\":\"white\",\"linecolor\":\"white\",\"ticks\":\"\"},\"baxis\":{\"gridcolor\":\"white\",\"linecolor\":\"white\",\"ticks\":\"\"},\"caxis\":{\"gridcolor\":\"white\",\"linecolor\":\"white\",\"ticks\":\"\"}},\"coloraxis\":{\"colorbar\":{\"outlinewidth\":0,\"ticks\":\"\"}},\"colorscale\":{\"sequential\":[[0.0,\"#0d0887\"],[0.1111111111111111,\"#46039f\"],[0.2222222222222222,\"#7201a8\"],[0.3333333333333333,\"#9c179e\"],[0.4444444444444444,\"#bd3786\"],[0.5555555555555556,\"#d8576b\"],[0.6666666666666666,\"#ed7953\"],[0.7777777777777778,\"#fb9f3a\"],[0.8888888888888888,\"#fdca26\"],[1.0,\"#f0f921\"]],\"sequentialminus\":[[0.0,\"#0d0887\"],[0.1111111111111111,\"#46039f\"],[0.2222222222222222,\"#7201a8\"],[0.3333333333333333,\"#9c179e\"],[0.4444444444444444,\"#bd3786\"],[0.5555555555555556,\"#d8576b\"],[0.6666666666666666,\"#ed7953\"],[0.7777777777777778,\"#fb9f3a\"],[0.8888888888888888,\"#fdca26\"],[1.0,\"#f0f921\"]],\"diverging\":[[0,\"#8e0152\"],[0.1,\"#c51b7d\"],[0.2,\"#de77ae\"],[0.3,\"#f1b6da\"],[0.4,\"#fde0ef\"],[0.5,\"#f7f7f7\"],[0.6,\"#e6f5d0\"],[0.7,\"#b8e186\"],[0.8,\"#7fbc41\"],[0.9,\"#4d9221\"],[1,\"#276419\"]]},\"xaxis\":{\"gridcolor\":\"white\",\"linecolor\":\"white\",\"ticks\":\"\",\"title\":{\"standoff\":15},\"zerolinecolor\":\"white\",\"automargin\":true,\"zerolinewidth\":2},\"yaxis\":{\"gridcolor\":\"white\",\"linecolor\":\"white\",\"ticks\":\"\",\"title\":{\"standoff\":15},\"zerolinecolor\":\"white\",\"automargin\":true,\"zerolinewidth\":2},\"scene\":{\"xaxis\":{\"backgroundcolor\":\"#E5ECF6\",\"gridcolor\":\"white\",\"linecolor\":\"white\",\"showbackground\":true,\"ticks\":\"\",\"zerolinecolor\":\"white\",\"gridwidth\":2},\"yaxis\":{\"backgroundcolor\":\"#E5ECF6\",\"gridcolor\":\"white\",\"linecolor\":\"white\",\"showbackground\":true,\"ticks\":\"\",\"zerolinecolor\":\"white\",\"gridwidth\":2},\"zaxis\":{\"backgroundcolor\":\"#E5ECF6\",\"gridcolor\":\"white\",\"linecolor\":\"white\",\"showbackground\":true,\"ticks\":\"\",\"zerolinecolor\":\"white\",\"gridwidth\":2}},\"shapedefaults\":{\"line\":{\"color\":\"#2a3f5f\"}},\"annotationdefaults\":{\"arrowcolor\":\"#2a3f5f\",\"arrowhead\":0,\"arrowwidth\":1},\"geo\":{\"bgcolor\":\"white\",\"landcolor\":\"#E5ECF6\",\"subunitcolor\":\"white\",\"showland\":true,\"showlakes\":true,\"lakecolor\":\"white\"},\"title\":{\"x\":0.05},\"mapbox\":{\"style\":\"light\"}}},\"mapbox\":{\"domain\":{\"x\":[0.0,1.0],\"y\":[0.0,1.0]},\"center\":{\"lat\":-31.850502499999997,\"lon\":145.52237},\"zoom\":3,\"style\":\"carto-positron\"},\"legend\":{\"tracegroupgap\":0},\"margin\":{\"t\":60},\"height\":600,\"title\":{\"text\":\"Best path by lin kernighan algorithm without library\"}},                        {\"responsive\": true}                    ).then(function(){\n",
              "                            \n",
              "var gd = document.getElementById('05e02a8b-d5fb-49a2-9ce9-336d6e94e6c0');\n",
              "var x = new MutationObserver(function (mutations, observer) {{\n",
              "        var display = window.getComputedStyle(gd).display;\n",
              "        if (!display || display === 'none') {{\n",
              "            console.log([gd, 'removed!']);\n",
              "            Plotly.purge(gd);\n",
              "            observer.disconnect();\n",
              "        }}\n",
              "}});\n",
              "\n",
              "// Listen for the removal of the full notebook cells\n",
              "var notebookContainer = gd.closest('#notebook-container');\n",
              "if (notebookContainer) {{\n",
              "    x.observe(notebookContainer, {childList: true});\n",
              "}}\n",
              "\n",
              "// Listen for the clearing of the current output cell\n",
              "var outputEl = gd.closest('.output');\n",
              "if (outputEl) {{\n",
              "    x.observe(outputEl, {childList: true});\n",
              "}}\n",
              "\n",
              "                        })                };                            </script>        </div>\n",
              "</body>\n",
              "</html>"
            ]
          },
          "metadata": {}
        },
        {
          "output_type": "stream",
          "name": "stdout",
          "text": [
            "Execution time is:\n",
            "0.8016269207000732\n",
            "Distance is:\n",
            "12465409.412453061\n"
          ]
        }
      ]
    },
    {
      "cell_type": "markdown",
      "source": [
        "###LIN KERNIGHAN LIBRARY PLOT"
      ],
      "metadata": {
        "id": "TNm57fJGYdp3"
      }
    },
    {
      "cell_type": "code",
      "source": [
        "import plotly.graph_objects as go\n",
        "import pandas as pd\n",
        "# Rotate the tour to start and end at the first city\n",
        "start_index = tour_LK.index(0)\n",
        "rotated_permutation = tour_LK[start_index:] + tour_LK[:start_index] + [tour_LK[start_index]]\n",
        "tour_lk = cities_coordinates[rotated_permutation]\n",
        "\n",
        "fig2 = px.scatter_mapbox(data, lat=\"lat\", lon=\"lng\", hover_name=\"city\", zoom=3, height=600, size_max=8)\n",
        "\n",
        "# Adding the best path or solution as a line\n",
        "fig2.add_trace(go.Scattermapbox(\n",
        "    lat=tour_lk[:, 0],\n",
        "    lon=tour_lk[:, 1],\n",
        "    mode='markers+lines',\n",
        "    name='Best Path',\n",
        "    marker=go.scattermapbox.Marker(size=4),\n",
        "    line=go.scattermapbox.Line(width=1,color='steelblue'),))\n",
        "\n",
        "# Customizibg the map style\n",
        "fig2.update_layout(mapbox_style=\"carto-positron\",title=\"Best path by lin kernighan algorithm\")\n",
        "\n",
        "\n",
        "# Showing the interactive plot\n",
        "fig2.show()\n",
        "\n",
        "print(\"Execution time is:\")\n",
        "print(lk_execution_time_lib)\n",
        "print(\"Distance is:\")\n",
        "print(LK_distance)"
      ],
      "metadata": {
        "id": "_-E6OgTfadBH",
        "colab": {
          "base_uri": "https://localhost:8080/",
          "height": 686
        },
        "outputId": "476ea1a5-7284-4025-8039-7c5c91432575"
      },
      "execution_count": 499,
      "outputs": [
        {
          "output_type": "display_data",
          "data": {
            "text/html": [
              "<html>\n",
              "<head><meta charset=\"utf-8\" /></head>\n",
              "<body>\n",
              "    <div>            <script src=\"https://cdnjs.cloudflare.com/ajax/libs/mathjax/2.7.5/MathJax.js?config=TeX-AMS-MML_SVG\"></script><script type=\"text/javascript\">if (window.MathJax && window.MathJax.Hub && window.MathJax.Hub.Config) {window.MathJax.Hub.Config({SVG: {font: \"STIX-Web\"}});}</script>                <script type=\"text/javascript\">window.PlotlyConfig = {MathJaxConfig: 'local'};</script>\n",
              "        <script charset=\"utf-8\" src=\"https://cdn.plot.ly/plotly-2.24.1.min.js\"></script>                <div id=\"b80f7f8f-5d9e-4941-8d73-99fa821bf330\" class=\"plotly-graph-div\" style=\"height:600px; width:100%;\"></div>            <script type=\"text/javascript\">                                    window.PLOTLYENV=window.PLOTLYENV || {};                                    if (document.getElementById(\"b80f7f8f-5d9e-4941-8d73-99fa821bf330\")) {                    Plotly.newPlot(                        \"b80f7f8f-5d9e-4941-8d73-99fa821bf330\",                        [{\"hovertemplate\":\"\\u003cb\\u003e%{hovertext}\\u003c\\u002fb\\u003e\\u003cbr\\u003e\\u003cbr\\u003elat=%{lat}\\u003cbr\\u003elng=%{lon}\\u003cextra\\u003e\\u003c\\u002fextra\\u003e\",\"hovertext\":[\"Sydney\",\"Melbourne\",\"Brisbane\",\"Perth\",\"Adelaide\",\"Canberra\",\"Gold Coast\",\"Cranbourne\",\"Central Coast\",\"Wollongong\",\"Hobart\",\"Geelong\",\"Townsville\",\"Ipswich\",\"Newcastle\",\"Cairns\",\"Darwin\",\"Toowoomba\",\"Launceston\",\"Caloundra\",\"Dandenong\",\"Campbelltown\",\"Leopold\",\"Corinda\",\"Ballarat\",\"Bendigo\",\"Mackay\",\"Melton\",\"Bunbury\",\"Bundaberg\",\"Wagga Wagga\",\"Hervey Bay\",\"Pakenham\",\"Port Macquarie\",\"Dubbo\",\"Orange\",\"Sunbury\",\"Geraldton\",\"Frankston\",\"Gladstone\"],\"lat\":[-33.8678,-37.8142,-27.4678,-31.9559,-34.9275,-35.2931,-28.0167,-38.0996,-33.3,-34.4331,-42.8806,-38.15,-19.25,-27.6167,-32.9167,-16.92,-12.4381,-27.5667,-41.4419,-26.7986,-37.981,-34.0733,-38.1892,-27.4833,-37.5608,-36.75,-21.1411,-37.6833,-33.3272,-24.8661,-35.1189,-25.29,-38.0712,-31.4333,-32.2569,-33.2833,-37.5811,-28.7744,-38.158,-23.8427],\"legendgroup\":\"\",\"lon\":[151.21,144.9631,153.0281,115.8606,138.6,149.1269,153.4,145.2834,151.2,150.8831,147.325,144.35,146.8167,152.7667,151.75,145.78,130.8411,151.95,147.145,153.1289,145.215,150.8261,144.4644,153.1,143.8475,144.2667,149.1858,144.5833,115.6369,152.3494,147.3689,152.84,145.4878,152.9,148.6011,149.1,144.7139,114.6089,145.135,151.2555],\"marker\":{\"color\":\"#636efa\"},\"mode\":\"markers\",\"name\":\"\",\"showlegend\":false,\"subplot\":\"mapbox\",\"type\":\"scattermapbox\"},{\"lat\":[-33.8678,-33.3,-32.9167,-31.4333,-28.0167,-27.4833,-27.4678,-27.5667,-27.6167,-26.7986,-25.29,-24.8661,-23.8427,-21.1411,-19.25,-16.92,-12.4381,-28.7744,-31.9559,-33.3272,-34.9275,-38.1892,-38.15,-42.8806,-41.4419,-38.0712,-36.75,-37.5608,-37.6833,-37.981,-38.0996,-38.158,-37.8142,-37.5811,-33.2833,-34.0733,-32.2569,-35.1189,-35.2931,-34.4331,-33.8678],\"line\":{\"color\":\"steelblue\",\"width\":1},\"lon\":[151.21,151.2,151.75,152.9,153.4,153.1,153.0281,151.95,152.7667,153.1289,152.84,152.3494,151.2555,149.1858,146.8167,145.78,130.8411,114.6089,115.8606,115.6369,138.6,144.4644,144.35,147.325,147.145,145.4878,144.2667,143.8475,144.5833,145.215,145.2834,145.135,144.9631,144.7139,149.1,150.8261,148.6011,147.3689,149.1269,150.8831,151.21],\"marker\":{\"size\":4},\"mode\":\"markers+lines\",\"name\":\"Best Path\",\"type\":\"scattermapbox\"}],                        {\"template\":{\"data\":{\"histogram2dcontour\":[{\"type\":\"histogram2dcontour\",\"colorbar\":{\"outlinewidth\":0,\"ticks\":\"\"},\"colorscale\":[[0.0,\"#0d0887\"],[0.1111111111111111,\"#46039f\"],[0.2222222222222222,\"#7201a8\"],[0.3333333333333333,\"#9c179e\"],[0.4444444444444444,\"#bd3786\"],[0.5555555555555556,\"#d8576b\"],[0.6666666666666666,\"#ed7953\"],[0.7777777777777778,\"#fb9f3a\"],[0.8888888888888888,\"#fdca26\"],[1.0,\"#f0f921\"]]}],\"choropleth\":[{\"type\":\"choropleth\",\"colorbar\":{\"outlinewidth\":0,\"ticks\":\"\"}}],\"histogram2d\":[{\"type\":\"histogram2d\",\"colorbar\":{\"outlinewidth\":0,\"ticks\":\"\"},\"colorscale\":[[0.0,\"#0d0887\"],[0.1111111111111111,\"#46039f\"],[0.2222222222222222,\"#7201a8\"],[0.3333333333333333,\"#9c179e\"],[0.4444444444444444,\"#bd3786\"],[0.5555555555555556,\"#d8576b\"],[0.6666666666666666,\"#ed7953\"],[0.7777777777777778,\"#fb9f3a\"],[0.8888888888888888,\"#fdca26\"],[1.0,\"#f0f921\"]]}],\"heatmap\":[{\"type\":\"heatmap\",\"colorbar\":{\"outlinewidth\":0,\"ticks\":\"\"},\"colorscale\":[[0.0,\"#0d0887\"],[0.1111111111111111,\"#46039f\"],[0.2222222222222222,\"#7201a8\"],[0.3333333333333333,\"#9c179e\"],[0.4444444444444444,\"#bd3786\"],[0.5555555555555556,\"#d8576b\"],[0.6666666666666666,\"#ed7953\"],[0.7777777777777778,\"#fb9f3a\"],[0.8888888888888888,\"#fdca26\"],[1.0,\"#f0f921\"]]}],\"heatmapgl\":[{\"type\":\"heatmapgl\",\"colorbar\":{\"outlinewidth\":0,\"ticks\":\"\"},\"colorscale\":[[0.0,\"#0d0887\"],[0.1111111111111111,\"#46039f\"],[0.2222222222222222,\"#7201a8\"],[0.3333333333333333,\"#9c179e\"],[0.4444444444444444,\"#bd3786\"],[0.5555555555555556,\"#d8576b\"],[0.6666666666666666,\"#ed7953\"],[0.7777777777777778,\"#fb9f3a\"],[0.8888888888888888,\"#fdca26\"],[1.0,\"#f0f921\"]]}],\"contourcarpet\":[{\"type\":\"contourcarpet\",\"colorbar\":{\"outlinewidth\":0,\"ticks\":\"\"}}],\"contour\":[{\"type\":\"contour\",\"colorbar\":{\"outlinewidth\":0,\"ticks\":\"\"},\"colorscale\":[[0.0,\"#0d0887\"],[0.1111111111111111,\"#46039f\"],[0.2222222222222222,\"#7201a8\"],[0.3333333333333333,\"#9c179e\"],[0.4444444444444444,\"#bd3786\"],[0.5555555555555556,\"#d8576b\"],[0.6666666666666666,\"#ed7953\"],[0.7777777777777778,\"#fb9f3a\"],[0.8888888888888888,\"#fdca26\"],[1.0,\"#f0f921\"]]}],\"surface\":[{\"type\":\"surface\",\"colorbar\":{\"outlinewidth\":0,\"ticks\":\"\"},\"colorscale\":[[0.0,\"#0d0887\"],[0.1111111111111111,\"#46039f\"],[0.2222222222222222,\"#7201a8\"],[0.3333333333333333,\"#9c179e\"],[0.4444444444444444,\"#bd3786\"],[0.5555555555555556,\"#d8576b\"],[0.6666666666666666,\"#ed7953\"],[0.7777777777777778,\"#fb9f3a\"],[0.8888888888888888,\"#fdca26\"],[1.0,\"#f0f921\"]]}],\"mesh3d\":[{\"type\":\"mesh3d\",\"colorbar\":{\"outlinewidth\":0,\"ticks\":\"\"}}],\"scatter\":[{\"fillpattern\":{\"fillmode\":\"overlay\",\"size\":10,\"solidity\":0.2},\"type\":\"scatter\"}],\"parcoords\":[{\"type\":\"parcoords\",\"line\":{\"colorbar\":{\"outlinewidth\":0,\"ticks\":\"\"}}}],\"scatterpolargl\":[{\"type\":\"scatterpolargl\",\"marker\":{\"colorbar\":{\"outlinewidth\":0,\"ticks\":\"\"}}}],\"bar\":[{\"error_x\":{\"color\":\"#2a3f5f\"},\"error_y\":{\"color\":\"#2a3f5f\"},\"marker\":{\"line\":{\"color\":\"#E5ECF6\",\"width\":0.5},\"pattern\":{\"fillmode\":\"overlay\",\"size\":10,\"solidity\":0.2}},\"type\":\"bar\"}],\"scattergeo\":[{\"type\":\"scattergeo\",\"marker\":{\"colorbar\":{\"outlinewidth\":0,\"ticks\":\"\"}}}],\"scatterpolar\":[{\"type\":\"scatterpolar\",\"marker\":{\"colorbar\":{\"outlinewidth\":0,\"ticks\":\"\"}}}],\"histogram\":[{\"marker\":{\"pattern\":{\"fillmode\":\"overlay\",\"size\":10,\"solidity\":0.2}},\"type\":\"histogram\"}],\"scattergl\":[{\"type\":\"scattergl\",\"marker\":{\"colorbar\":{\"outlinewidth\":0,\"ticks\":\"\"}}}],\"scatter3d\":[{\"type\":\"scatter3d\",\"line\":{\"colorbar\":{\"outlinewidth\":0,\"ticks\":\"\"}},\"marker\":{\"colorbar\":{\"outlinewidth\":0,\"ticks\":\"\"}}}],\"scattermapbox\":[{\"type\":\"scattermapbox\",\"marker\":{\"colorbar\":{\"outlinewidth\":0,\"ticks\":\"\"}}}],\"scatterternary\":[{\"type\":\"scatterternary\",\"marker\":{\"colorbar\":{\"outlinewidth\":0,\"ticks\":\"\"}}}],\"scattercarpet\":[{\"type\":\"scattercarpet\",\"marker\":{\"colorbar\":{\"outlinewidth\":0,\"ticks\":\"\"}}}],\"carpet\":[{\"aaxis\":{\"endlinecolor\":\"#2a3f5f\",\"gridcolor\":\"white\",\"linecolor\":\"white\",\"minorgridcolor\":\"white\",\"startlinecolor\":\"#2a3f5f\"},\"baxis\":{\"endlinecolor\":\"#2a3f5f\",\"gridcolor\":\"white\",\"linecolor\":\"white\",\"minorgridcolor\":\"white\",\"startlinecolor\":\"#2a3f5f\"},\"type\":\"carpet\"}],\"table\":[{\"cells\":{\"fill\":{\"color\":\"#EBF0F8\"},\"line\":{\"color\":\"white\"}},\"header\":{\"fill\":{\"color\":\"#C8D4E3\"},\"line\":{\"color\":\"white\"}},\"type\":\"table\"}],\"barpolar\":[{\"marker\":{\"line\":{\"color\":\"#E5ECF6\",\"width\":0.5},\"pattern\":{\"fillmode\":\"overlay\",\"size\":10,\"solidity\":0.2}},\"type\":\"barpolar\"}],\"pie\":[{\"automargin\":true,\"type\":\"pie\"}]},\"layout\":{\"autotypenumbers\":\"strict\",\"colorway\":[\"#636efa\",\"#EF553B\",\"#00cc96\",\"#ab63fa\",\"#FFA15A\",\"#19d3f3\",\"#FF6692\",\"#B6E880\",\"#FF97FF\",\"#FECB52\"],\"font\":{\"color\":\"#2a3f5f\"},\"hovermode\":\"closest\",\"hoverlabel\":{\"align\":\"left\"},\"paper_bgcolor\":\"white\",\"plot_bgcolor\":\"#E5ECF6\",\"polar\":{\"bgcolor\":\"#E5ECF6\",\"angularaxis\":{\"gridcolor\":\"white\",\"linecolor\":\"white\",\"ticks\":\"\"},\"radialaxis\":{\"gridcolor\":\"white\",\"linecolor\":\"white\",\"ticks\":\"\"}},\"ternary\":{\"bgcolor\":\"#E5ECF6\",\"aaxis\":{\"gridcolor\":\"white\",\"linecolor\":\"white\",\"ticks\":\"\"},\"baxis\":{\"gridcolor\":\"white\",\"linecolor\":\"white\",\"ticks\":\"\"},\"caxis\":{\"gridcolor\":\"white\",\"linecolor\":\"white\",\"ticks\":\"\"}},\"coloraxis\":{\"colorbar\":{\"outlinewidth\":0,\"ticks\":\"\"}},\"colorscale\":{\"sequential\":[[0.0,\"#0d0887\"],[0.1111111111111111,\"#46039f\"],[0.2222222222222222,\"#7201a8\"],[0.3333333333333333,\"#9c179e\"],[0.4444444444444444,\"#bd3786\"],[0.5555555555555556,\"#d8576b\"],[0.6666666666666666,\"#ed7953\"],[0.7777777777777778,\"#fb9f3a\"],[0.8888888888888888,\"#fdca26\"],[1.0,\"#f0f921\"]],\"sequentialminus\":[[0.0,\"#0d0887\"],[0.1111111111111111,\"#46039f\"],[0.2222222222222222,\"#7201a8\"],[0.3333333333333333,\"#9c179e\"],[0.4444444444444444,\"#bd3786\"],[0.5555555555555556,\"#d8576b\"],[0.6666666666666666,\"#ed7953\"],[0.7777777777777778,\"#fb9f3a\"],[0.8888888888888888,\"#fdca26\"],[1.0,\"#f0f921\"]],\"diverging\":[[0,\"#8e0152\"],[0.1,\"#c51b7d\"],[0.2,\"#de77ae\"],[0.3,\"#f1b6da\"],[0.4,\"#fde0ef\"],[0.5,\"#f7f7f7\"],[0.6,\"#e6f5d0\"],[0.7,\"#b8e186\"],[0.8,\"#7fbc41\"],[0.9,\"#4d9221\"],[1,\"#276419\"]]},\"xaxis\":{\"gridcolor\":\"white\",\"linecolor\":\"white\",\"ticks\":\"\",\"title\":{\"standoff\":15},\"zerolinecolor\":\"white\",\"automargin\":true,\"zerolinewidth\":2},\"yaxis\":{\"gridcolor\":\"white\",\"linecolor\":\"white\",\"ticks\":\"\",\"title\":{\"standoff\":15},\"zerolinecolor\":\"white\",\"automargin\":true,\"zerolinewidth\":2},\"scene\":{\"xaxis\":{\"backgroundcolor\":\"#E5ECF6\",\"gridcolor\":\"white\",\"linecolor\":\"white\",\"showbackground\":true,\"ticks\":\"\",\"zerolinecolor\":\"white\",\"gridwidth\":2},\"yaxis\":{\"backgroundcolor\":\"#E5ECF6\",\"gridcolor\":\"white\",\"linecolor\":\"white\",\"showbackground\":true,\"ticks\":\"\",\"zerolinecolor\":\"white\",\"gridwidth\":2},\"zaxis\":{\"backgroundcolor\":\"#E5ECF6\",\"gridcolor\":\"white\",\"linecolor\":\"white\",\"showbackground\":true,\"ticks\":\"\",\"zerolinecolor\":\"white\",\"gridwidth\":2}},\"shapedefaults\":{\"line\":{\"color\":\"#2a3f5f\"}},\"annotationdefaults\":{\"arrowcolor\":\"#2a3f5f\",\"arrowhead\":0,\"arrowwidth\":1},\"geo\":{\"bgcolor\":\"white\",\"landcolor\":\"#E5ECF6\",\"subunitcolor\":\"white\",\"showland\":true,\"showlakes\":true,\"lakecolor\":\"white\"},\"title\":{\"x\":0.05},\"mapbox\":{\"style\":\"light\"}}},\"mapbox\":{\"domain\":{\"x\":[0.0,1.0],\"y\":[0.0,1.0]},\"center\":{\"lat\":-31.850502499999997,\"lon\":145.52237},\"zoom\":3,\"style\":\"carto-positron\"},\"legend\":{\"tracegroupgap\":0},\"margin\":{\"t\":60},\"height\":600,\"title\":{\"text\":\"Best path by lin kernighan algorithm\"}},                        {\"responsive\": true}                    ).then(function(){\n",
              "                            \n",
              "var gd = document.getElementById('b80f7f8f-5d9e-4941-8d73-99fa821bf330');\n",
              "var x = new MutationObserver(function (mutations, observer) {{\n",
              "        var display = window.getComputedStyle(gd).display;\n",
              "        if (!display || display === 'none') {{\n",
              "            console.log([gd, 'removed!']);\n",
              "            Plotly.purge(gd);\n",
              "            observer.disconnect();\n",
              "        }}\n",
              "}});\n",
              "\n",
              "// Listen for the removal of the full notebook cells\n",
              "var notebookContainer = gd.closest('#notebook-container');\n",
              "if (notebookContainer) {{\n",
              "    x.observe(notebookContainer, {childList: true});\n",
              "}}\n",
              "\n",
              "// Listen for the clearing of the current output cell\n",
              "var outputEl = gd.closest('.output');\n",
              "if (outputEl) {{\n",
              "    x.observe(outputEl, {childList: true});\n",
              "}}\n",
              "\n",
              "                        })                };                            </script>        </div>\n",
              "</body>\n",
              "</html>"
            ]
          },
          "metadata": {}
        },
        {
          "output_type": "stream",
          "name": "stdout",
          "text": [
            "Execution time is:\n",
            "0.0063936710357666016\n",
            "Distance is:\n",
            "13395228.08227162\n"
          ]
        }
      ]
    },
    {
      "cell_type": "code",
      "source": [
        "import plotly.express as px\n",
        "import plotly.graph_objects as go\n",
        "\n",
        "# Assuming `best_path` contains the indices of cities in the best path\n",
        "best_path_indices = tour_nn  # Assuming `tour` contains the indices of cities in the best pa\n",
        "best_path_indices = [i % len(data) for i in best_path_indices]\n",
        "best_path_coordinates = [(data.iloc[idx][\"lat\"], data.iloc[idx][\"lng\"]) for idx in best_path_indices]\n",
        "\n",
        "# Creating a scatter plot using Plotly\n",
        "fig2 = px.scatter_mapbox(data, lat=\"lat\", lon=\"lng\", hover_name=\"city\", zoom=3, height=600, size_max=8)\n",
        "\n",
        "# Adding the best path or solution as a line\n",
        "fig2.add_trace(go.Scattermapbox(\n",
        "    lat=[coord[0] for coord in best_path_coordinates],\n",
        "    lon=[coord[1] for coord in best_path_coordinates],\n",
        "    mode='markers+lines',\n",
        "    name='Best Path',\n",
        "    marker=go.scattermapbox.Marker(size=4),\n",
        "    line=go.scattermapbox.Line(width=1, color='steelblue'),\n",
        "    text=[data.iloc[idx][\"city\"] for idx in tour_nn],\n",
        "))\n",
        "\n",
        "# Customizing the map style\n",
        "fig2.update_layout(mapbox_style=\"carto-positron\",title=\"Best path by Nearest neighbor algorithm\")\n",
        "\n",
        "# Showing the interactive plot\n",
        "fig2.show()\n",
        "\n",
        "print(\"Execution time is:\")\n",
        "print(nn_execution_time)\n",
        "print(\"Distance is:\")\n",
        "print(distance_nn)"
      ],
      "metadata": {
        "id": "8wonRVGiGyNC",
        "colab": {
          "base_uri": "https://localhost:8080/",
          "height": 686
        },
        "outputId": "2798db97-531a-4da0-dc42-03fc691c132d"
      },
      "execution_count": 500,
      "outputs": [
        {
          "output_type": "display_data",
          "data": {
            "text/html": [
              "<html>\n",
              "<head><meta charset=\"utf-8\" /></head>\n",
              "<body>\n",
              "    <div>            <script src=\"https://cdnjs.cloudflare.com/ajax/libs/mathjax/2.7.5/MathJax.js?config=TeX-AMS-MML_SVG\"></script><script type=\"text/javascript\">if (window.MathJax && window.MathJax.Hub && window.MathJax.Hub.Config) {window.MathJax.Hub.Config({SVG: {font: \"STIX-Web\"}});}</script>                <script type=\"text/javascript\">window.PlotlyConfig = {MathJaxConfig: 'local'};</script>\n",
              "        <script charset=\"utf-8\" src=\"https://cdn.plot.ly/plotly-2.24.1.min.js\"></script>                <div id=\"d6b7c605-1f85-4450-9a43-38145a644124\" class=\"plotly-graph-div\" style=\"height:600px; width:100%;\"></div>            <script type=\"text/javascript\">                                    window.PLOTLYENV=window.PLOTLYENV || {};                                    if (document.getElementById(\"d6b7c605-1f85-4450-9a43-38145a644124\")) {                    Plotly.newPlot(                        \"d6b7c605-1f85-4450-9a43-38145a644124\",                        [{\"hovertemplate\":\"\\u003cb\\u003e%{hovertext}\\u003c\\u002fb\\u003e\\u003cbr\\u003e\\u003cbr\\u003elat=%{lat}\\u003cbr\\u003elng=%{lon}\\u003cextra\\u003e\\u003c\\u002fextra\\u003e\",\"hovertext\":[\"Sydney\",\"Melbourne\",\"Brisbane\",\"Perth\",\"Adelaide\",\"Canberra\",\"Gold Coast\",\"Cranbourne\",\"Central Coast\",\"Wollongong\",\"Hobart\",\"Geelong\",\"Townsville\",\"Ipswich\",\"Newcastle\",\"Cairns\",\"Darwin\",\"Toowoomba\",\"Launceston\",\"Caloundra\",\"Dandenong\",\"Campbelltown\",\"Leopold\",\"Corinda\",\"Ballarat\",\"Bendigo\",\"Mackay\",\"Melton\",\"Bunbury\",\"Bundaberg\",\"Wagga Wagga\",\"Hervey Bay\",\"Pakenham\",\"Port Macquarie\",\"Dubbo\",\"Orange\",\"Sunbury\",\"Geraldton\",\"Frankston\",\"Gladstone\"],\"lat\":[-33.8678,-37.8142,-27.4678,-31.9559,-34.9275,-35.2931,-28.0167,-38.0996,-33.3,-34.4331,-42.8806,-38.15,-19.25,-27.6167,-32.9167,-16.92,-12.4381,-27.5667,-41.4419,-26.7986,-37.981,-34.0733,-38.1892,-27.4833,-37.5608,-36.75,-21.1411,-37.6833,-33.3272,-24.8661,-35.1189,-25.29,-38.0712,-31.4333,-32.2569,-33.2833,-37.5811,-28.7744,-38.158,-23.8427],\"legendgroup\":\"\",\"lon\":[151.21,144.9631,153.0281,115.8606,138.6,149.1269,153.4,145.2834,151.2,150.8831,147.325,144.35,146.8167,152.7667,151.75,145.78,130.8411,151.95,147.145,153.1289,145.215,150.8261,144.4644,153.1,143.8475,144.2667,149.1858,144.5833,115.6369,152.3494,147.3689,152.84,145.4878,152.9,148.6011,149.1,144.7139,114.6089,145.135,151.2555],\"marker\":{\"color\":\"#636efa\"},\"mode\":\"markers\",\"name\":\"\",\"showlegend\":false,\"subplot\":\"mapbox\",\"type\":\"scattermapbox\"},{\"lat\":[-33.8678,-34.0733,-34.4331,-33.3,-32.9167,-31.4333,-28.0167,-27.4833,-27.4678,-27.6167,-27.5667,-26.7986,-25.29,-24.8661,-23.8427,-21.1411,-19.25,-16.92,-12.4381,-28.7744,-31.9559,-33.3272,-34.9275,-36.75,-37.5608,-37.6833,-37.5811,-37.8142,-37.981,-38.0996,-38.158,-38.0712,-38.1892,-38.15,-35.1189,-35.2931,-33.2833,-32.2569,-41.4419,-42.8806,-33.8678],\"line\":{\"color\":\"steelblue\",\"width\":1},\"lon\":[151.21,150.8261,150.8831,151.2,151.75,152.9,153.4,153.1,153.0281,152.7667,151.95,153.1289,152.84,152.3494,151.2555,149.1858,146.8167,145.78,130.8411,114.6089,115.8606,115.6369,138.6,144.2667,143.8475,144.5833,144.7139,144.9631,145.215,145.2834,145.135,145.4878,144.4644,144.35,147.3689,149.1269,149.1,148.6011,147.145,147.325,151.21],\"marker\":{\"size\":4},\"mode\":\"markers+lines\",\"name\":\"Best Path\",\"text\":[\"Sydney\",\"Campbelltown\",\"Wollongong\",\"Central Coast\",\"Newcastle\",\"Port Macquarie\",\"Gold Coast\",\"Corinda\",\"Brisbane\",\"Ipswich\",\"Toowoomba\",\"Caloundra\",\"Hervey Bay\",\"Bundaberg\",\"Gladstone\",\"Mackay\",\"Townsville\",\"Cairns\",\"Darwin\",\"Geraldton\",\"Perth\",\"Bunbury\",\"Adelaide\",\"Bendigo\",\"Ballarat\",\"Melton\",\"Sunbury\",\"Melbourne\",\"Dandenong\",\"Cranbourne\",\"Frankston\",\"Pakenham\",\"Leopold\",\"Geelong\",\"Wagga Wagga\",\"Canberra\",\"Orange\",\"Dubbo\",\"Launceston\",\"Hobart\",\"Sydney\"],\"type\":\"scattermapbox\"}],                        {\"template\":{\"data\":{\"histogram2dcontour\":[{\"type\":\"histogram2dcontour\",\"colorbar\":{\"outlinewidth\":0,\"ticks\":\"\"},\"colorscale\":[[0.0,\"#0d0887\"],[0.1111111111111111,\"#46039f\"],[0.2222222222222222,\"#7201a8\"],[0.3333333333333333,\"#9c179e\"],[0.4444444444444444,\"#bd3786\"],[0.5555555555555556,\"#d8576b\"],[0.6666666666666666,\"#ed7953\"],[0.7777777777777778,\"#fb9f3a\"],[0.8888888888888888,\"#fdca26\"],[1.0,\"#f0f921\"]]}],\"choropleth\":[{\"type\":\"choropleth\",\"colorbar\":{\"outlinewidth\":0,\"ticks\":\"\"}}],\"histogram2d\":[{\"type\":\"histogram2d\",\"colorbar\":{\"outlinewidth\":0,\"ticks\":\"\"},\"colorscale\":[[0.0,\"#0d0887\"],[0.1111111111111111,\"#46039f\"],[0.2222222222222222,\"#7201a8\"],[0.3333333333333333,\"#9c179e\"],[0.4444444444444444,\"#bd3786\"],[0.5555555555555556,\"#d8576b\"],[0.6666666666666666,\"#ed7953\"],[0.7777777777777778,\"#fb9f3a\"],[0.8888888888888888,\"#fdca26\"],[1.0,\"#f0f921\"]]}],\"heatmap\":[{\"type\":\"heatmap\",\"colorbar\":{\"outlinewidth\":0,\"ticks\":\"\"},\"colorscale\":[[0.0,\"#0d0887\"],[0.1111111111111111,\"#46039f\"],[0.2222222222222222,\"#7201a8\"],[0.3333333333333333,\"#9c179e\"],[0.4444444444444444,\"#bd3786\"],[0.5555555555555556,\"#d8576b\"],[0.6666666666666666,\"#ed7953\"],[0.7777777777777778,\"#fb9f3a\"],[0.8888888888888888,\"#fdca26\"],[1.0,\"#f0f921\"]]}],\"heatmapgl\":[{\"type\":\"heatmapgl\",\"colorbar\":{\"outlinewidth\":0,\"ticks\":\"\"},\"colorscale\":[[0.0,\"#0d0887\"],[0.1111111111111111,\"#46039f\"],[0.2222222222222222,\"#7201a8\"],[0.3333333333333333,\"#9c179e\"],[0.4444444444444444,\"#bd3786\"],[0.5555555555555556,\"#d8576b\"],[0.6666666666666666,\"#ed7953\"],[0.7777777777777778,\"#fb9f3a\"],[0.8888888888888888,\"#fdca26\"],[1.0,\"#f0f921\"]]}],\"contourcarpet\":[{\"type\":\"contourcarpet\",\"colorbar\":{\"outlinewidth\":0,\"ticks\":\"\"}}],\"contour\":[{\"type\":\"contour\",\"colorbar\":{\"outlinewidth\":0,\"ticks\":\"\"},\"colorscale\":[[0.0,\"#0d0887\"],[0.1111111111111111,\"#46039f\"],[0.2222222222222222,\"#7201a8\"],[0.3333333333333333,\"#9c179e\"],[0.4444444444444444,\"#bd3786\"],[0.5555555555555556,\"#d8576b\"],[0.6666666666666666,\"#ed7953\"],[0.7777777777777778,\"#fb9f3a\"],[0.8888888888888888,\"#fdca26\"],[1.0,\"#f0f921\"]]}],\"surface\":[{\"type\":\"surface\",\"colorbar\":{\"outlinewidth\":0,\"ticks\":\"\"},\"colorscale\":[[0.0,\"#0d0887\"],[0.1111111111111111,\"#46039f\"],[0.2222222222222222,\"#7201a8\"],[0.3333333333333333,\"#9c179e\"],[0.4444444444444444,\"#bd3786\"],[0.5555555555555556,\"#d8576b\"],[0.6666666666666666,\"#ed7953\"],[0.7777777777777778,\"#fb9f3a\"],[0.8888888888888888,\"#fdca26\"],[1.0,\"#f0f921\"]]}],\"mesh3d\":[{\"type\":\"mesh3d\",\"colorbar\":{\"outlinewidth\":0,\"ticks\":\"\"}}],\"scatter\":[{\"fillpattern\":{\"fillmode\":\"overlay\",\"size\":10,\"solidity\":0.2},\"type\":\"scatter\"}],\"parcoords\":[{\"type\":\"parcoords\",\"line\":{\"colorbar\":{\"outlinewidth\":0,\"ticks\":\"\"}}}],\"scatterpolargl\":[{\"type\":\"scatterpolargl\",\"marker\":{\"colorbar\":{\"outlinewidth\":0,\"ticks\":\"\"}}}],\"bar\":[{\"error_x\":{\"color\":\"#2a3f5f\"},\"error_y\":{\"color\":\"#2a3f5f\"},\"marker\":{\"line\":{\"color\":\"#E5ECF6\",\"width\":0.5},\"pattern\":{\"fillmode\":\"overlay\",\"size\":10,\"solidity\":0.2}},\"type\":\"bar\"}],\"scattergeo\":[{\"type\":\"scattergeo\",\"marker\":{\"colorbar\":{\"outlinewidth\":0,\"ticks\":\"\"}}}],\"scatterpolar\":[{\"type\":\"scatterpolar\",\"marker\":{\"colorbar\":{\"outlinewidth\":0,\"ticks\":\"\"}}}],\"histogram\":[{\"marker\":{\"pattern\":{\"fillmode\":\"overlay\",\"size\":10,\"solidity\":0.2}},\"type\":\"histogram\"}],\"scattergl\":[{\"type\":\"scattergl\",\"marker\":{\"colorbar\":{\"outlinewidth\":0,\"ticks\":\"\"}}}],\"scatter3d\":[{\"type\":\"scatter3d\",\"line\":{\"colorbar\":{\"outlinewidth\":0,\"ticks\":\"\"}},\"marker\":{\"colorbar\":{\"outlinewidth\":0,\"ticks\":\"\"}}}],\"scattermapbox\":[{\"type\":\"scattermapbox\",\"marker\":{\"colorbar\":{\"outlinewidth\":0,\"ticks\":\"\"}}}],\"scatterternary\":[{\"type\":\"scatterternary\",\"marker\":{\"colorbar\":{\"outlinewidth\":0,\"ticks\":\"\"}}}],\"scattercarpet\":[{\"type\":\"scattercarpet\",\"marker\":{\"colorbar\":{\"outlinewidth\":0,\"ticks\":\"\"}}}],\"carpet\":[{\"aaxis\":{\"endlinecolor\":\"#2a3f5f\",\"gridcolor\":\"white\",\"linecolor\":\"white\",\"minorgridcolor\":\"white\",\"startlinecolor\":\"#2a3f5f\"},\"baxis\":{\"endlinecolor\":\"#2a3f5f\",\"gridcolor\":\"white\",\"linecolor\":\"white\",\"minorgridcolor\":\"white\",\"startlinecolor\":\"#2a3f5f\"},\"type\":\"carpet\"}],\"table\":[{\"cells\":{\"fill\":{\"color\":\"#EBF0F8\"},\"line\":{\"color\":\"white\"}},\"header\":{\"fill\":{\"color\":\"#C8D4E3\"},\"line\":{\"color\":\"white\"}},\"type\":\"table\"}],\"barpolar\":[{\"marker\":{\"line\":{\"color\":\"#E5ECF6\",\"width\":0.5},\"pattern\":{\"fillmode\":\"overlay\",\"size\":10,\"solidity\":0.2}},\"type\":\"barpolar\"}],\"pie\":[{\"automargin\":true,\"type\":\"pie\"}]},\"layout\":{\"autotypenumbers\":\"strict\",\"colorway\":[\"#636efa\",\"#EF553B\",\"#00cc96\",\"#ab63fa\",\"#FFA15A\",\"#19d3f3\",\"#FF6692\",\"#B6E880\",\"#FF97FF\",\"#FECB52\"],\"font\":{\"color\":\"#2a3f5f\"},\"hovermode\":\"closest\",\"hoverlabel\":{\"align\":\"left\"},\"paper_bgcolor\":\"white\",\"plot_bgcolor\":\"#E5ECF6\",\"polar\":{\"bgcolor\":\"#E5ECF6\",\"angularaxis\":{\"gridcolor\":\"white\",\"linecolor\":\"white\",\"ticks\":\"\"},\"radialaxis\":{\"gridcolor\":\"white\",\"linecolor\":\"white\",\"ticks\":\"\"}},\"ternary\":{\"bgcolor\":\"#E5ECF6\",\"aaxis\":{\"gridcolor\":\"white\",\"linecolor\":\"white\",\"ticks\":\"\"},\"baxis\":{\"gridcolor\":\"white\",\"linecolor\":\"white\",\"ticks\":\"\"},\"caxis\":{\"gridcolor\":\"white\",\"linecolor\":\"white\",\"ticks\":\"\"}},\"coloraxis\":{\"colorbar\":{\"outlinewidth\":0,\"ticks\":\"\"}},\"colorscale\":{\"sequential\":[[0.0,\"#0d0887\"],[0.1111111111111111,\"#46039f\"],[0.2222222222222222,\"#7201a8\"],[0.3333333333333333,\"#9c179e\"],[0.4444444444444444,\"#bd3786\"],[0.5555555555555556,\"#d8576b\"],[0.6666666666666666,\"#ed7953\"],[0.7777777777777778,\"#fb9f3a\"],[0.8888888888888888,\"#fdca26\"],[1.0,\"#f0f921\"]],\"sequentialminus\":[[0.0,\"#0d0887\"],[0.1111111111111111,\"#46039f\"],[0.2222222222222222,\"#7201a8\"],[0.3333333333333333,\"#9c179e\"],[0.4444444444444444,\"#bd3786\"],[0.5555555555555556,\"#d8576b\"],[0.6666666666666666,\"#ed7953\"],[0.7777777777777778,\"#fb9f3a\"],[0.8888888888888888,\"#fdca26\"],[1.0,\"#f0f921\"]],\"diverging\":[[0,\"#8e0152\"],[0.1,\"#c51b7d\"],[0.2,\"#de77ae\"],[0.3,\"#f1b6da\"],[0.4,\"#fde0ef\"],[0.5,\"#f7f7f7\"],[0.6,\"#e6f5d0\"],[0.7,\"#b8e186\"],[0.8,\"#7fbc41\"],[0.9,\"#4d9221\"],[1,\"#276419\"]]},\"xaxis\":{\"gridcolor\":\"white\",\"linecolor\":\"white\",\"ticks\":\"\",\"title\":{\"standoff\":15},\"zerolinecolor\":\"white\",\"automargin\":true,\"zerolinewidth\":2},\"yaxis\":{\"gridcolor\":\"white\",\"linecolor\":\"white\",\"ticks\":\"\",\"title\":{\"standoff\":15},\"zerolinecolor\":\"white\",\"automargin\":true,\"zerolinewidth\":2},\"scene\":{\"xaxis\":{\"backgroundcolor\":\"#E5ECF6\",\"gridcolor\":\"white\",\"linecolor\":\"white\",\"showbackground\":true,\"ticks\":\"\",\"zerolinecolor\":\"white\",\"gridwidth\":2},\"yaxis\":{\"backgroundcolor\":\"#E5ECF6\",\"gridcolor\":\"white\",\"linecolor\":\"white\",\"showbackground\":true,\"ticks\":\"\",\"zerolinecolor\":\"white\",\"gridwidth\":2},\"zaxis\":{\"backgroundcolor\":\"#E5ECF6\",\"gridcolor\":\"white\",\"linecolor\":\"white\",\"showbackground\":true,\"ticks\":\"\",\"zerolinecolor\":\"white\",\"gridwidth\":2}},\"shapedefaults\":{\"line\":{\"color\":\"#2a3f5f\"}},\"annotationdefaults\":{\"arrowcolor\":\"#2a3f5f\",\"arrowhead\":0,\"arrowwidth\":1},\"geo\":{\"bgcolor\":\"white\",\"landcolor\":\"#E5ECF6\",\"subunitcolor\":\"white\",\"showland\":true,\"showlakes\":true,\"lakecolor\":\"white\"},\"title\":{\"x\":0.05},\"mapbox\":{\"style\":\"light\"}}},\"mapbox\":{\"domain\":{\"x\":[0.0,1.0],\"y\":[0.0,1.0]},\"center\":{\"lat\":-31.850502499999997,\"lon\":145.52237},\"zoom\":3,\"style\":\"carto-positron\"},\"legend\":{\"tracegroupgap\":0},\"margin\":{\"t\":60},\"height\":600,\"title\":{\"text\":\"Best path by Nearest neighbor algorithm\"}},                        {\"responsive\": true}                    ).then(function(){\n",
              "                            \n",
              "var gd = document.getElementById('d6b7c605-1f85-4450-9a43-38145a644124');\n",
              "var x = new MutationObserver(function (mutations, observer) {{\n",
              "        var display = window.getComputedStyle(gd).display;\n",
              "        if (!display || display === 'none') {{\n",
              "            console.log([gd, 'removed!']);\n",
              "            Plotly.purge(gd);\n",
              "            observer.disconnect();\n",
              "        }}\n",
              "}});\n",
              "\n",
              "// Listen for the removal of the full notebook cells\n",
              "var notebookContainer = gd.closest('#notebook-container');\n",
              "if (notebookContainer) {{\n",
              "    x.observe(notebookContainer, {childList: true});\n",
              "}}\n",
              "\n",
              "// Listen for the clearing of the current output cell\n",
              "var outputEl = gd.closest('.output');\n",
              "if (outputEl) {{\n",
              "    x.observe(outputEl, {childList: true});\n",
              "}}\n",
              "\n",
              "                        })                };                            </script>        </div>\n",
              "</body>\n",
              "</html>"
            ]
          },
          "metadata": {}
        },
        {
          "output_type": "stream",
          "name": "stdout",
          "text": [
            "Execution time is:\n",
            "0.0005955696105957031\n",
            "Distance is:\n",
            "13501231.219921868\n"
          ]
        }
      ]
    },
    {
      "cell_type": "markdown",
      "source": [
        "###Distances and times found"
      ],
      "metadata": {
        "id": "Zn5xnQyBjJY5"
      }
    },
    {
      "cell_type": "code",
      "source": [
        "# Executing algorithms and measuring execution times\n",
        "execution_times = [nn_execution_time, ch_execution_time, lk_execution_time_lib, lk_execution_time_custom]\n",
        "distances = [distance_nn, christofides_distance, total_distance_lin_kernighan]\n",
        "algorithms = [\"Nearest Neighbor\", \"Christofides\", \"Lin-Kernighan library \", \"Lin kernighan custom \"]\n",
        "\n",
        "# Create a dictionary to store algorithm names and execution times\n",
        "algorithm_exec_times = dict(zip(algorithms, execution_times))\n",
        "algorithm_distances = dict(zip(algorithms, distances))\n",
        "# Print algorithm and execution time\n",
        "print(\"Execution times:\")\n",
        "for algorithm, time in algorithm_exec_times.items():\n",
        "    print(f\"{algorithm}: {time:.2f} seconds\")\n",
        "\n",
        "\n",
        "print(\"Distances:\")\n",
        "for algorithm, distance in algorithm_distances.items():\n",
        "    print(f\"{algorithm}: {distance} \")"
      ],
      "metadata": {
        "colab": {
          "base_uri": "https://localhost:8080/"
        },
        "id": "Cp2bWoQUjIF_",
        "outputId": "1333c2bc-7521-480a-f8f5-45eada9d8a04"
      },
      "execution_count": 501,
      "outputs": [
        {
          "output_type": "stream",
          "name": "stdout",
          "text": [
            "Execution times:\n",
            "Nearest Neighbor: 0.00 seconds\n",
            "Christofides: 0.09 seconds\n",
            "Lin-Kernighan library : 0.01 seconds\n",
            "Lin kernighan custom : 0.80 seconds\n",
            "Distances:\n",
            "Nearest Neighbor: 13501231.219921868 \n",
            "Christofides: 25198520.432865772 \n",
            "Lin-Kernighan library : 12465409.412453061 \n"
          ]
        }
      ]
    },
    {
      "cell_type": "code",
      "source": [
        "# Data for real-world dataset analysis for Australia and Pakistan\n",
        "countries_clusters = [\n",
        "    'Australia High', 'Australia Medium', 'Australia Low',\n",
        "    'Pakistan High', 'Pakistan Medium', 'Pakistan Low'\n",
        "]\n",
        "distances_CH = [\n",
        "    25198520.43, 49945917.0033081, 78096354.69445576,\n",
        "    5445386.147144399, 13952674.019575339, 10300384.849921709\n",
        "]\n",
        "times_CH = [\n",
        "    0.0928812026977539, 0.45174694061279197, 0.417501141357422,\n",
        "    0.02542567253112793, 0.13047361373901367, 0.222991943359375\n",
        "]\n",
        "\n",
        "distances_LK = [\n",
        "    12465409.412453061, 18345761.8760144, 26362573.62841919,\n",
        "    3298777.3142610085, 5835440.809502282, 5584460.534004124\n",
        "]\n",
        "times_LK = [\n",
        "    0.004068446807861333, 0.15427827835083008, 31.15951354904175,\n",
        "    0.04314470291137695, 1.7842371463775635, 1.5575568675994873\n",
        "]\n",
        "\n",
        "distances_NN = [\n",
        "    13501231.219921868, 22422375.637012288, 27310998.972326618,\n",
        "    3262578.9408481633, 7716836.980681908, 6877444.865621893\n",
        "]\n",
        "times_NN = [\n",
        "    0.0005674362182617188, 0.0037374496459960938, 0.0036339759826660156,\n",
        "    0.00017881393432617188, 0.0012123584747314453, 0.0005657672882080078\n",
        "]\n",
        "\n",
        "# Create subplots for the distance and time\n",
        "fig, axes = plt.subplots(2, 1, figsize=(12, 12))\n",
        "\n",
        "# Distance plot\n",
        "axes[0].plot(countries_clusters, distances_CH, 'o-', label='Christofides', color='blue')\n",
        "axes[0].plot(countries_clusters, distances_LK, 's-', label='Lin-Kernighan', color='green')\n",
        "axes[0].plot(countries_clusters, distances_NN, '^-', label='Nearest Neighbor', color='red')\n",
        "axes[0].set_xlabel('Country and Population Cluster')\n",
        "axes[0].set_ylabel('Distance')\n",
        "axes[0].set_title('TSP Algorithm Distance Comparison')\n",
        "axes[0].legend()\n",
        "axes[0].grid(True)\n",
        "\n",
        "# Time plot\n",
        "axes[1].plot(countries_clusters, times_CH, 'o--', label='Christofides', color='blue')\n",
        "axes[1].plot(countries_clusters, times_LK, 's--', label='Lin-Kernighan', color='green')\n",
        "axes[1].plot(countries_clusters, times_NN, '^--', label='Nearest Neighbor', color='red')\n",
        "axes[1].set_xlabel('Country and Population Cluster')\n",
        "axes[1].set_ylabel('Computation Time (seconds)')\n",
        "axes[1].set_title('TSP Algorithm Time Comparison')\n",
        "axes[1].legend()\n",
        "axes[1].grid(True)\n",
        "\n",
        "plt.tight_layout()\n",
        "plt.show()\n"
      ],
      "metadata": {
        "colab": {
          "base_uri": "https://localhost:8080/",
          "height": 1000
        },
        "id": "3XyJ4owZpUWL",
        "outputId": "1d433840-36dd-4383-faeb-f3accb836f0c"
      },
      "execution_count": 503,
      "outputs": [
        {
          "output_type": "display_data",
          "data": {
            "text/plain": [
              "<Figure size 1200x1200 with 2 Axes>"
            ],
            "image/png": "[encoded data removed]"
          },
          "metadata": {}
        }
      ]
    }
  ]
}